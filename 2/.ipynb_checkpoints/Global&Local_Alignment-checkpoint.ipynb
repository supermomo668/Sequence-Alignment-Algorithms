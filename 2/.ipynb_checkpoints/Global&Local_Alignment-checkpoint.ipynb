{
 "cells": [
  {
   "cell_type": "code",
   "execution_count": 2,
   "metadata": {},
   "outputs": [],
   "source": [
    "import pandas as pd, numpy as np, math as m"
   ]
  },
  {
   "cell_type": "code",
   "execution_count": 308,
   "metadata": {},
   "outputs": [
    {
     "name": "stdout",
     "output_type": "stream",
     "text": [
      "(20, 20)\n"
     ]
    },
    {
     "data": {
      "text/html": [
       "<div>\n",
       "<style scoped>\n",
       "    .dataframe tbody tr th:only-of-type {\n",
       "        vertical-align: middle;\n",
       "    }\n",
       "\n",
       "    .dataframe tbody tr th {\n",
       "        vertical-align: top;\n",
       "    }\n",
       "\n",
       "    .dataframe thead th {\n",
       "        text-align: right;\n",
       "    }\n",
       "</style>\n",
       "<table border=\"1\" class=\"dataframe\">\n",
       "  <thead>\n",
       "    <tr style=\"text-align: right;\">\n",
       "      <th></th>\n",
       "      <th>A</th>\n",
       "      <th>C</th>\n",
       "      <th>D</th>\n",
       "      <th>E</th>\n",
       "      <th>F</th>\n",
       "      <th>G</th>\n",
       "      <th>H</th>\n",
       "      <th>I</th>\n",
       "      <th>K</th>\n",
       "      <th>L</th>\n",
       "      <th>M</th>\n",
       "      <th>N</th>\n",
       "      <th>P</th>\n",
       "      <th>Q</th>\n",
       "      <th>R</th>\n",
       "      <th>S</th>\n",
       "      <th>T</th>\n",
       "      <th>V</th>\n",
       "      <th>W</th>\n",
       "      <th>Y</th>\n",
       "    </tr>\n",
       "  </thead>\n",
       "  <tbody>\n",
       "    <tr>\n",
       "      <th>A</th>\n",
       "      <td>4</td>\n",
       "      <td>0</td>\n",
       "      <td>-2</td>\n",
       "      <td>-1</td>\n",
       "      <td>-2</td>\n",
       "      <td>0</td>\n",
       "      <td>-2</td>\n",
       "      <td>-1</td>\n",
       "      <td>-1</td>\n",
       "      <td>-1</td>\n",
       "      <td>-1</td>\n",
       "      <td>-2</td>\n",
       "      <td>-1</td>\n",
       "      <td>-1</td>\n",
       "      <td>-1</td>\n",
       "      <td>1</td>\n",
       "      <td>0</td>\n",
       "      <td>0</td>\n",
       "      <td>-3</td>\n",
       "      <td>-2</td>\n",
       "    </tr>\n",
       "    <tr>\n",
       "      <th>C</th>\n",
       "      <td>0</td>\n",
       "      <td>9</td>\n",
       "      <td>-3</td>\n",
       "      <td>-4</td>\n",
       "      <td>-2</td>\n",
       "      <td>-3</td>\n",
       "      <td>-3</td>\n",
       "      <td>-1</td>\n",
       "      <td>-3</td>\n",
       "      <td>-1</td>\n",
       "      <td>-1</td>\n",
       "      <td>-3</td>\n",
       "      <td>-3</td>\n",
       "      <td>-3</td>\n",
       "      <td>-3</td>\n",
       "      <td>-1</td>\n",
       "      <td>-1</td>\n",
       "      <td>-1</td>\n",
       "      <td>-2</td>\n",
       "      <td>-2</td>\n",
       "    </tr>\n",
       "    <tr>\n",
       "      <th>D</th>\n",
       "      <td>-2</td>\n",
       "      <td>-3</td>\n",
       "      <td>6</td>\n",
       "      <td>2</td>\n",
       "      <td>-3</td>\n",
       "      <td>-1</td>\n",
       "      <td>-1</td>\n",
       "      <td>-3</td>\n",
       "      <td>-1</td>\n",
       "      <td>-4</td>\n",
       "      <td>-3</td>\n",
       "      <td>1</td>\n",
       "      <td>-1</td>\n",
       "      <td>0</td>\n",
       "      <td>-2</td>\n",
       "      <td>0</td>\n",
       "      <td>-1</td>\n",
       "      <td>-3</td>\n",
       "      <td>-4</td>\n",
       "      <td>-3</td>\n",
       "    </tr>\n",
       "  </tbody>\n",
       "</table>\n",
       "</div>"
      ],
      "text/plain": [
       "   A  C  D  E  F  G  H  I  K  L  M  N  P  Q  R  S  T  V  W  Y\n",
       "A  4  0 -2 -1 -2  0 -2 -1 -1 -1 -1 -2 -1 -1 -1  1  0  0 -3 -2\n",
       "C  0  9 -3 -4 -2 -3 -3 -1 -3 -1 -1 -3 -3 -3 -3 -1 -1 -1 -2 -2\n",
       "D -2 -3  6  2 -3 -1 -1 -3 -1 -4 -3  1 -1  0 -2  0 -1 -3 -4 -3"
      ]
     },
     "execution_count": 308,
     "metadata": {},
     "output_type": "execute_result"
    }
   ],
   "source": [
    "# Load Blossom Matrix\n",
    "Blosum = pd.read_fwf('BLOSUM62.txt'); \n",
    "Blosum.index = Blosum['Unnamed: 0']; del Blosum.index.name; Blosum.drop('Unnamed: 0',axis = 1, inplace = True);\n",
    "print(Blosum.shape); \n",
    "Blosum.head(3)"
   ]
  },
  {
   "cell_type": "markdown",
   "metadata": {},
   "source": [
    "## Global Alignment"
   ]
  },
  {
   "cell_type": "code",
   "execution_count": 509,
   "metadata": {},
   "outputs": [],
   "source": [
    "class GlobalAlignment:\n",
    "    def __init__(self, ScoringMatrix, indel_penalty):\n",
    "        self.ScoreMat = ScoringMatrix\n",
    "        self.indel_penalty = indel_penalty\n",
    "        print('Size of Scoring Matrix: ', self.ScoreMat.shape)\n",
    "        print('Types : ', list(self.ScoreMat.columns))\n",
    "    def LCS(self, string1, string2):\n",
    "        self.string1 = string1; self.string2 = string2\n",
    "        k1 = len(string1); k2 = len(string2)\n",
    "        self.node_matrix = np.zeros((k1+1, k2+1)); self.backtrack_matrix = np.zeros((k1+1, k2+1));\n",
    "        print('Diagnoal:', 0, 'Down:', 1, 'Right:', 2)\n",
    "        self.backtrack_matrix[0,1:] = np.linspace(2, 2, k2)\n",
    "        self.backtrack_matrix[1:,0] = np.linspace(1, 1, k1)\n",
    "        self.node_matrix[0,1:] = np.arange(self.indel_penalty, self.indel_penalty*(k2+1), self.indel_penalty)\n",
    "        self.node_matrix[1:,0] = np.arange(self.indel_penalty, self.indel_penalty*(k1+1), self.indel_penalty)\n",
    "        for i in range(0, k1):           ## Along the Row\n",
    "            for j in range(0, k2):           ## along the column\n",
    "                diag_vertice = self.node_matrix[i,j]+self.ScoreMat[string1[i]][string2[j]]\n",
    "                down_vertice = self.node_matrix[i,j+1] + self.indel_penalty\n",
    "                right_vertice = self.node_matrix[i+1,j] + self.indel_penalty\n",
    "                all_vertices = [diag_vertice,down_vertice,right_vertice]\n",
    "                pointer = np.argmax(all_vertices);  \n",
    "                self.node_matrix[i+1][j+1] = [diag_vertice,down_vertice,right_vertice][pointer]\n",
    "                #### Make Backtrack Matrix\n",
    "                if (i <= k1-1) and (j <= k2-1):\n",
    "                    self.backtrack_matrix[i+1,j+1] = pointer\n",
    "        self.max_score = self.node_matrix[-1][-1]\n",
    "        return self.node_matrix, self.backtrack_matrix, self.max_score\n",
    "    def BacktrackAlign(self):\n",
    "        i,j = self.backtrack_matrix.shape; i=i-1; j=j-1;\n",
    "        score = 0; align1 = ''; align2 = ''\n",
    "        while (i >= 1) or (j >= 1):\n",
    "            base1 = self.string1[i-1]; base2 = self.string2[j-1];\n",
    "            if self.backtrack_matrix[i][j] == 0:\n",
    "                align1 = base1 + align1; align2 = base2 + align2\n",
    "                score += self.ScoreMat[base1][base2]\n",
    "                i -= 1; j -= 1; \n",
    "            elif self.backtrack_matrix[i][j] == 1:\n",
    "                align1 = base1 + align1; align2 = '-' + align2\n",
    "                score += self.indel_penalty\n",
    "                i -= 1;\n",
    "            elif self.backtrack_matrix[i][j] == 2:\n",
    "                align1 = '-' + align1; align2 = base2 + align2\n",
    "                score += self.indel_penalty\n",
    "                j -= 1\n",
    "        print('(Double) Check Score: ', score ==self.max_score)\n",
    "        print('Check Length: ', len(align1)==len(align2))\n",
    "        return score, align1,align2"
   ]
  },
  {
   "cell_type": "code",
   "execution_count": 510,
   "metadata": {},
   "outputs": [
    {
     "name": "stdout",
     "output_type": "stream",
     "text": [
      "Size of Scoring Matrix:  (20, 20)\n",
      "Types :  ['A', 'C', 'D', 'E', 'F', 'G', 'H', 'I', 'K', 'L', 'M', 'N', 'P', 'Q', 'R', 'S', 'T', 'V', 'W', 'Y']\n",
      "Diagnoal: 0 Down: 1 Right: 2\n",
      "Node Matrix:\n",
      " [[  0.  -5. -10. -15. -20. -25. -30.]\n",
      " [ -5.  -2.  -6. -11. -16. -21. -26.]\n",
      " [-10.  -3.  -5.  -7. -12. -12. -17.]\n",
      " [-15.  -8.   2.  -3.  -7. -12. -14.]\n",
      " [-20. -13.  -3.   6.   1.  -4.  -9.]\n",
      " [-25. -18.  -8.   1.   7.   2.  -3.]\n",
      " [-30. -23. -13.  -4.   2.   6.   1.]\n",
      " [-35. -28. -18.  -9.   2.   1.   4.]\n",
      " [-40. -33. -23. -14.  -3.   1.  -1.]\n",
      " [-45. -38. -28. -19.  -8.   1.   0.]\n",
      " [-50. -43. -33. -24. -13.  -4.   8.]] \n",
      "Backtrack Matrix:\n",
      " [[0. 2. 2. 2. 2. 2. 2.]\n",
      " [1. 0. 0. 0. 2. 2. 2.]\n",
      " [1. 0. 0. 0. 2. 0. 2.]\n",
      " [1. 1. 0. 2. 0. 2. 0.]\n",
      " [1. 1. 1. 0. 2. 2. 2.]\n",
      " [1. 1. 1. 1. 0. 2. 2.]\n",
      " [1. 1. 1. 0. 1. 0. 2.]\n",
      " [1. 1. 1. 1. 0. 1. 0.]\n",
      " [1. 1. 1. 1. 1. 0. 0.]\n",
      " [1. 0. 1. 1. 1. 0. 0.]\n",
      " [1. 1. 1. 1. 1. 1. 0.]] \n",
      "Max Score: 8.0\n",
      "(Double) Check Score:  True\n",
      "Check Length:  True\n",
      "(8, 'PLEASANTLY', '-ME--AN-LY')\n"
     ]
    }
   ],
   "source": [
    "a = GlobalAlignment(Blosum,-5)\n",
    "node_matrix, backtrack_matrix, max_score  = a.LCS('PLEASANTLY','MEANLY'); \n",
    "print('Node Matrix:\\n', node_matrix,'\\nBacktrack Matrix:\\n', backtrack_matrix, '\\nMax Score:', max_score)\n",
    "print(a.BacktrackAlign())"
   ]
  },
  {
   "cell_type": "markdown",
   "metadata": {},
   "source": [
    "### CC-1"
   ]
  },
  {
   "cell_type": "code",
   "execution_count": 496,
   "metadata": {},
   "outputs": [],
   "source": [
    "file = open('CC1-GlobalAlignment.txt','r')\n",
    "data = file.read().split('\\n'); file.close()\n",
    "string1 , string2 = data[0], data [1]"
   ]
  },
  {
   "cell_type": "code",
   "execution_count": 511,
   "metadata": {},
   "outputs": [
    {
     "name": "stdout",
     "output_type": "stream",
     "text": [
      "Size of Scoring Matrix:  (20, 20)\n",
      "Types :  ['A', 'C', 'D', 'E', 'F', 'G', 'H', 'I', 'K', 'L', 'M', 'N', 'P', 'Q', 'R', 'S', 'T', 'V', 'W', 'Y']\n",
      "Diagnoal: 0 Down: 1 Right: 2\n",
      "Node Matrix:\n",
      " [[    0.    -5.   -10. ... -4525. -4530. -4535.]\n",
      " [   -5.     5.     0. ... -4515. -4520. -4525.]\n",
      " [  -10.     0.    10. ... -4505. -4510. -4515.]\n",
      " ...\n",
      " [-4130. -4120. -4110. ...  2368.  2363.  2358.]\n",
      " [-4135. -4125. -4115. ...  2363.  2379.  2374.]\n",
      " [-4140. -4130. -4120. ...  2358.  2374.  2378.]] \n",
      "Backtrack Matrix:\n",
      " [[0. 2. 2. ... 2. 2. 2.]\n",
      " [1. 0. 0. ... 2. 2. 2.]\n",
      " [1. 0. 0. ... 2. 2. 2.]\n",
      " ...\n",
      " [1. 1. 1. ... 0. 2. 2.]\n",
      " [1. 1. 1. ... 1. 0. 2.]\n",
      " [1. 1. 1. ... 1. 1. 0.]] \n",
      "Max Score: 2378.0\n",
      "(Double) Check Score:  True\n",
      "Check Length:  True\n",
      "2378\n",
      "KKTADWILCVLCSMVTMYRLCRNRECLHSCHLDMRHECKPKHMKAV--Y-YNEAY--IQKNY-KSV--VMR--GTEWWTNDSWMECDPCHLVNMQDGQHFYWLGGYNRVTTLYGFFWMERNQNVRHCMFEFYFYYLSMNHWGYRATDSIMKVFQFERDMLNPAIMCRATPMMK--Y--PKY-H-WT-M-YLRMFCCCID--EH-K--Q-SYFCGCPWTHEEHMIYCMQFCQMTNQWTEDQDTSHCCHRYSAIWEKDKYKLRLKITP-----YFGYVSSVGQNDWGNMSKGRYLLEEYLPGLVNSRVTDC--CVFTVN---G--GM--QCQMQRGAWFNSVHMSRGESGEITLVTNHFFTQVWTHWKEHYCWKCTMIMGIPMCPPM------RPL------E-LH-YMGEMGRWYRQLLCNDDVWP--ELAGFGPACASFLGHDKNMPRWKTLRYYFFSVGLWIMCYKTDHQCDEIQCREQEALEMY-K-MFFTVRESYMCESLQGP------V-KHSEWNFSVEGCA-W-NMRNDTCIMILNWTWEVVSHTPT-SD-P--E-MNGLAYSQYQALE--S---F-----F-GWRWYMRQ--------VHTDYWKPCTHCKNHDFGNK---K-WWWRVVGWLKLGFPIENSQWWPHCVKITKPMNMDIACIKKVP-Y-GL-KWQVRRLHESEMQEECRPHQIPYAEPAEAKYDYQFHAKPK---I--PLHSCWFPMGVHCNITCEWMDYAWILIIV----K-DMVPVIYK-TN--E----------GKWTQILKDRVHKNDILYEEMHCWDHCWYAKSCFPPCDPVYIRMGKKTHDLHQHICWSSHLARCTREQIACH------RV-GRNPERRVQ--W-----SFEFDFCIYAKAKSFCVFDCL-CDMFGFKNWE--R--GMQRYKKPWMDRKWYPCWWYMECFWCCYKPCQWNMLDLSMGQPRTHWR\n",
      "KKT--WILCVLI-QEPMYK-CA-L-CRHEINRYMVQYSKPKHMKAVFWFPYNEAYVFVQMFYQRRTHNFSNIIGMFWWTNDSLMECDPCHLVNMQDGQHFYWLGGYNRVTTLYGFFWMERNQNVRHCMTNFYFYWLSMNHWGYRATDS----FCFERDMLNPAIMCRATWLWKDSYFMMKYVNKYSPVDRNRMFCCKIDTWTHWKGHKFSYFCGCPWTSEEHYIYCMLFCQMTNQWTE--DTSH-CH--CAFWEWDKYKLRLKITPRCIMCIFGYVSSVRQNDW-N--KA-Y---NYLPGLVNSRTEDANVCGWGMNQPHGLEEMRQQCQWQRGAWFNSVHMSR----EITLVTNHFY--I-L-YKEHYCWKCTMIMGIPMCPPMPRLYSQRPLVMKWIRQLLHSTQGEMGYWYRQLLEMQCMWACNDDVWFGPACASFWKW-LTYP-IDILRYYFFSVGSWIMCYK---K-D--QCREREALEMYFHFMFFTVRESQMCESLQGPGYEIQLVGQHQKDNFSVEGCAECIVLIKWEVVSFTNSTWHCTGGTDEGSEMKVIERQRFLCYSVYQALESPSMKNWVTSQRFTGWRWYMRQFVMLNMTPVHQDYWKPCTHCKNHDFMNKMMCKCWWWRVVGWFKLGFPIENSQRWPHCHKMTKPMNMDIACIKKVPQVRRLHTFALRGQYPNEMQEECRPHQIPYAEPYEAKYDYQFHAKPKGNGTEHPLHSCMQVMGVHCMITCEWMGYAWILIIVTPKTKGDMVPVIQNMSNTTESPHCDPIDSGGKWTQILKDRVHKND--WTWYHCWDPC-LV-SCKPPC-----RMG-KTHRLHQHICWSLHLARCTREQIACHYVVTADHIYSRNPEMRVQLIYGGLLMSFEFDFCIY--AKSFDRYDHMSCCMFGFKNMESYHDWNMQRYKKPWMDRK--------QT-WCCYKPCQWNMLDLSMGQPRTHWM\n"
     ]
    }
   ],
   "source": [
    "a = GlobalAlignment(Blosum, -5)\n",
    "node_matrix, backtrack_matrix, max_score  = a.LCS(string1,string2); \n",
    "print('Node Matrix:\\n', node_matrix,'\\nBacktrack Matrix:\\n', backtrack_matrix, '\\nMax Score:', max_score)\n",
    "score, align1, align2 = a.BacktrackAlign(); \n",
    "print(score); print(align1); print(align2)"
   ]
  },
  {
   "cell_type": "code",
   "execution_count": null,
   "metadata": {},
   "outputs": [],
   "source": []
  }
 ],
 "metadata": {
  "kernelspec": {
   "display_name": "Python 3",
   "language": "python",
   "name": "python3"
  },
  "language_info": {
   "codemirror_mode": {
    "name": "ipython",
    "version": 3
   },
   "file_extension": ".py",
   "mimetype": "text/x-python",
   "name": "python",
   "nbconvert_exporter": "python",
   "pygments_lexer": "ipython3",
   "version": "3.6.6"
  }
 },
 "nbformat": 4,
 "nbformat_minor": 2
}
