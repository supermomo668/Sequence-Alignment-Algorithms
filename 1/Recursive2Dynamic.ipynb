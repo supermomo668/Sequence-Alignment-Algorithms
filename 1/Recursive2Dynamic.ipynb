{
 "cells": [
  {
   "cell_type": "markdown",
   "metadata": {},
   "source": [
    "<b>Recursive Changes"
   ]
  },
  {
   "cell_type": "code",
   "execution_count": 40,
   "metadata": {},
   "outputs": [
    {
     "data": {
      "text/html": [
       "<img src=\"img/recursive-calls.png\",width = 400, height = 400>\n"
      ],
      "text/plain": [
       "<IPython.core.display.HTML object>"
      ]
     },
     "metadata": {},
     "output_type": "display_data"
    }
   ],
   "source": [
    "%%html\n",
    "<img src=\"img/recursive-calls.png\",width = 400, height = 400>"
   ]
  },
  {
   "cell_type": "code",
   "execution_count": 40,
   "metadata": {},
   "outputs": [],
   "source": [
    "import math as m\n",
    "def RecursiveChanges(money, coins):     #money: single value   #coins: array of denominator values available\n",
    "    if money == 0 :\n",
    "        return 0\n",
    "    minimum_number_coins = m.inf\n",
    "    count = 0;\n",
    "    for coin in coins:                 #for each coin in [coin1, coin2, coin3...]\n",
    "        if coin <= money:\n",
    "            Number_of_coins = RecursiveChanges(money-coin, coins)\n",
    "        if Number_of_coins < minimum_number_coins:\n",
    "            minimum_number_coins = Number_of_coins + 1\n",
    "    return minimum_number_coins"
   ]
  },
  {
   "cell_type": "code",
   "execution_count": 41,
   "metadata": {},
   "outputs": [
    {
     "data": {
      "text/plain": [
       "4"
      ]
     },
     "execution_count": 41,
     "metadata": {},
     "output_type": "execute_result"
    }
   ],
   "source": [
    "RecursiveChanges(17,[1,4,5])"
   ]
  },
  {
   "cell_type": "code",
   "execution_count": 42,
   "metadata": {},
   "outputs": [
    {
     "name": "stdout",
     "output_type": "stream",
     "text": [
      "3 3 3 4 4 4 4 4 5 5\n"
     ]
    }
   ],
   "source": [
    "## Generate an array for m = 1 - 12\n",
    "max_money = 22; minimum_coins = []; coins = [1,4,5]\n",
    "for money in range(13,max_money+1):\n",
    "    minimum_coins.append(RecursiveChanges(money,coins))\n",
    "print(' '.join(str(i) for i in minimum_coins))"
   ]
  },
  {
   "cell_type": "markdown",
   "metadata": {},
   "source": [
    "<b>Dynamic Programming "
   ]
  },
  {
   "cell_type": "code",
   "execution_count": 75,
   "metadata": {},
   "outputs": [],
   "source": [
    "import math as m\n",
    "def DP_Changes(money,coins):        #money: single value   #coins: array of denominator values available\n",
    "    minimum_coins = []\n",
    "    minimum_coins.insert(0,0)\n",
    "    for mon in range(money):\n",
    "        minimum_coins.append(m.inf)\n",
    "        for coin in coins:\n",
    "            if mon >= coin:           # don't bother if the coin value is larger than money (you cannot get integer)\n",
    "                last_minimum_coin = minimum_coins[mon-coin]    # recall previous minimum coin for (m-coin)\n",
    "                if last_minimum_coin + 1 < minimum_coins[mon]:\n",
    "                    minimum_coins[mon] = last_minimum_coin + 1\n",
    "    return minimum_coins[mon]"
   ]
  },
  {
   "cell_type": "code",
   "execution_count": 72,
   "metadata": {},
   "outputs": [
    {
     "name": "stdout",
     "output_type": "stream",
     "text": [
      "19281\n",
      "[6, 5, 3, 1]\n"
     ]
    }
   ],
   "source": [
    "file = open('CC1-change_problem.txt','r')\n",
    "data = file.read(); data\n",
    "money, coins, _ = data.split('\\n'); money = int(money); coins = [int(i) for i in coins.split(',')]\n",
    "print(money); print(coins)\n",
    "file.close()"
   ]
  },
  {
   "cell_type": "code",
   "execution_count": 73,
   "metadata": {},
   "outputs": [
    {
     "name": "stdout",
     "output_type": "stream",
     "text": [
      "3214\n"
     ]
    }
   ],
   "source": [
    "minimum_coin_array = DP_Changes(money, coins)\n",
    "print(minimum_coin_array)"
   ]
  },
  {
   "cell_type": "markdown",
   "metadata": {},
   "source": [
    "<b>Manhattan Tourist Problem"
   ]
  },
  {
   "cell_type": "code",
   "execution_count": 196,
   "metadata": {},
   "outputs": [],
   "source": [
    "import numpy as np\n",
    "def ManhattanTourist(row, col, down_matrix, right_matrix,diag_matrix): #If 4x4 grid | down matrix: 4x5 | right matrix: 5 x 4\n",
    "    node_matrix = np.zeros((row+1,col+1))    \n",
    "    for i in range(0,row):   # calculate first column #row: 4 #reiterate 4 times\n",
    "        node_matrix[i+1][0] = node_matrix[i][0] + down_matrix[i][0]    #down_matrix 4x5\n",
    "    for j in range(0, col):  # calculate first column #col: 4 #reiterate 4 times\n",
    "        node_matrix[0][j+1] = node_matrix[0][j] + right_matrix[0][j]   #right_matrix 5x4\n",
    "    \n",
    "    for i in range(1,row+1):   # Start calculating (1,1),(1,2)....(1,5)\n",
    "        for j in range(1,col+1):\n",
    "            node2node_down = node_matrix[i-1][j] + down_matrix[i-1][j]; \n",
    "            node2node_right = node_matrix[i][j-1] + right_matrix[i][j-1];\n",
    "            node_matrix[i][j] = max(node2node_down,node2node_right)      #get max node value\n",
    "            if diag_matrix != '':    ## diagonal option\n",
    "                node_matrix[i][j] = max(node_matrix[i][j],node_matrix[i-1][j-1]+ diag_matrix[i-1][j-1])\n",
    "            #print(node_matrix)\n",
    "    return node_matrix[-1][-1]"
   ]
  },
  {
   "cell_type": "code",
   "execution_count": 11,
   "metadata": {},
   "outputs": [
    {
     "name": "stdout",
     "output_type": "stream",
     "text": [
      "5\n",
      "14\n"
     ]
    }
   ],
   "source": [
    "file = open('CC2-Manhattan_tourist.txt','r')\n",
    "data = file.read(); data = data.split('\\n')\n",
    "row, col = data[0].split(' '); row = int(row); col = int(col); \n",
    "down_matrix_data = data[1:row+1]; down_matrix_data =  [i.split(' ') for i in down_matrix_data]\n",
    "right_matrix_data = data[row+2:-1]; right_matrix_data = [i.split(' ') for i in right_matrix_data]\n",
    "file.close()\n",
    "print(row); print(col);"
   ]
  },
  {
   "cell_type": "code",
   "execution_count": 198,
   "metadata": {},
   "outputs": [
    {
     "name": "stdout",
     "output_type": "stream",
     "text": [
      "[[4 1 4 3 1 4 0 1 2 4 3 0 0 3 3]\n",
      " [3 4 4 4 0 1 2 1 0 2 1 1 1 0 1]\n",
      " [3 1 2 1 1 4 3 1 0 0 3 1 4 3 1]\n",
      " [4 3 1 2 2 3 1 1 4 3 0 3 2 1 3]\n",
      " [0 0 2 4 1 4 4 0 4 2 2 0 1 0 1]]\n"
     ]
    }
   ],
   "source": [
    "down_matrix = np.array([[int(item) for item  in row] for row in down_matrix_data])\n",
    "right_matrix = np.array([[int(item) for item in row] for row in right_matrix_data])\n",
    "print(down_matrix); "
   ]
  },
  {
   "cell_type": "code",
   "execution_count": 199,
   "metadata": {},
   "outputs": [
    {
     "data": {
      "text/plain": [
       "52.0"
      ]
     },
     "execution_count": 199,
     "metadata": {},
     "output_type": "execute_result"
    }
   ],
   "source": [
    "ManhattanTourist(row,col, down_matrix, right_matrix,_)"
   ]
  },
  {
   "cell_type": "markdown",
   "metadata": {},
   "source": [
    "<b>Matrix Backtracking"
   ]
  },
  {
   "cell_type": "code",
   "execution_count": 227,
   "metadata": {},
   "outputs": [],
   "source": [
    "# Denote \"down\", \"right\",\"diagonal\" (match) = -1, 0, 1     Dummy Variables\n",
    "def LCS_Backtrack(string1, string2): #If 4x4 grid       string1: vertical    string2: horizontal\n",
    "    k1 = len(string1); k2 = len(string2);\n",
    "    node_matrix = np.zeros((k1+1 ,k2+1))    # assigned a 2D zero matrix for node value 5x5  \n",
    "    backtrack_matrix = np.zeros((k1,k2))      # backtrack pointers\n",
    "    for i in range(1,k1+1):   # Start calculating (1,1),(1,2)....(1,5)\n",
    "        for j in range(1,k2+1):\n",
    "#Form Node Matrix with Max Value\n",
    "            if string1[i-1] == string2[j-1]:\n",
    "                match = 1\n",
    "            else:\n",
    "                match = 0\n",
    "            node_matrix[i][j] = max(node_matrix[i-1][j],node_matrix[i][j-1], node_matrix[i-1][j-1] + match)\n",
    "# Get pointer from value comparison\n",
    "            if node_matrix[i][j] == node_matrix[i-1][j]:      #Go DOWN\n",
    "                backtrack_matrix[i-1][j-1] = -1\n",
    "            elif node_matrix[i][j] == node_matrix[i][j-1]:    #Go LEFT\n",
    "                backtrack_matrix[i-1][j-1] = 0            \n",
    "            elif node_matrix[i][j] == node_matrix[i-1][j-1] + 1  :  #Go Diagonal\n",
    "                backtrack_matrix[i-1][j-1] = 1\n",
    "    print('node matrix\\n' + str(node_matrix))\n",
    "    return backtrack_matrix"
   ]
  },
  {
   "cell_type": "code",
   "execution_count": 228,
   "metadata": {},
   "outputs": [
    {
     "name": "stdout",
     "output_type": "stream",
     "text": [
      "node matrix\n",
      "[[0. 0. 0. 0. 0. 0. 0.]\n",
      " [0. 1. 1. 1. 1. 1. 1.]\n",
      " [0. 1. 1. 2. 2. 2. 2.]\n",
      " [0. 1. 2. 2. 3. 3. 3.]\n",
      " [0. 1. 2. 2. 3. 3. 3.]\n",
      " [0. 1. 2. 2. 3. 4. 4.]\n",
      " [0. 1. 2. 2. 3. 4. 4.]\n",
      " [0. 1. 2. 2. 3. 4. 5.]\n",
      " [0. 1. 2. 2. 3. 4. 5.]]\n"
     ]
    },
    {
     "data": {
      "text/plain": [
       "array([[ 1.,  0.,  0.,  0.,  0.,  0.],\n",
       "       [-1., -1.,  1.,  0.,  0.,  0.],\n",
       "       [-1.,  1., -1.,  1.,  0.,  0.],\n",
       "       [-1., -1., -1., -1., -1., -1.],\n",
       "       [-1., -1., -1., -1.,  1.,  0.],\n",
       "       [-1., -1., -1., -1., -1., -1.],\n",
       "       [-1., -1., -1., -1., -1.,  1.],\n",
       "       [-1., -1., -1., -1., -1., -1.]])"
      ]
     },
     "execution_count": 228,
     "metadata": {},
     "output_type": "execute_result"
    }
   ],
   "source": [
    "backtrack_matrix = LCS_Backtrack('AACCTTGG','ACACTG'); \n",
    "backtrack_matrix"
   ]
  },
  {
   "cell_type": "code",
   "execution_count": 747,
   "metadata": {},
   "outputs": [],
   "source": [
    "## Uses While Loop\n",
    "def LCS_1(v,w):\n",
    "    backtrack_matrix = LCS_Backtrack(v,w); print('Backtrack Matrix: \\n'+str(backtrack_matrix))\n",
    "    i = len(v)-1; j = len(w)-1; string1 = ''; string2 = ''; LCS_array = []\n",
    "    while i >= 0 or j >= 0:\n",
    "        '''\n",
    "        print('(i,j)= ('+ str(i)+ ', ' + str(j)+')' )\n",
    "        print('Pointer: ' + str(backtrack_matrix[i][j]))\n",
    "        ''' \n",
    "        if backtrack_matrix[i][j] == -1:  ## Down Pointer, go Up\n",
    "            i = i - 1\n",
    "            #string2 = '-' + string2; string1 = v[i+1] + string1\n",
    "        elif backtrack_matrix[i][j] == 0 :    ## Right pointer, go LEFT\n",
    "            j = j - 1\n",
    "            #string1 = '-' + string1; string2 = w[j+1] + string2\n",
    "        elif backtrack_matrix[i][j] == 1:    ## Down pointer, go UP\n",
    "            #string1 = v[i+1] + string1; string2 = w[i+1] + string2\n",
    "            LCS_array.insert(0,v[i])\n",
    "            i = i - 1; j = j - 1;\n",
    "    return ''.join(LCS_array)    #string1, string2\n",
    "\n",
    "## Recursive form\n",
    "def LCS_2(backtrack_matrix, v, i, j):     # i = len(i); j = len(j)\n",
    "    if i==0 or j==0:\n",
    "        return\n",
    "    backtrack_matrix = LCS_Backtrack(v,w); #print(backtrack_matrix)\n",
    "    if backtrack_matrix[i][j] == -1:    # Down pointer, go up\n",
    "        LCS_2(backtrack_matrix, v, i-1, j)\n",
    "    elif backtrack_matrix[i][j] == 0:    # Right pointer, go left\n",
    "        LCS_2(backtrack_matrix, v, i, j-1)\n",
    "    else :    #backtrack_matrix[i][j] == 1\n",
    "        LCS_2(backtrack_matrix, v, i-1, j-1)\n",
    "        print(v[i])"
   ]
  },
  {
   "cell_type": "code",
   "execution_count": 748,
   "metadata": {},
   "outputs": [
    {
     "name": "stdout",
     "output_type": "stream",
     "text": [
      "node matrix\n",
      "[[0. 0. 0. 0. 0. 0. 0. 0. 0. 0.]\n",
      " [0. 1. 1. 1. 1. 1. 1. 1. 1. 1.]\n",
      " [0. 1. 1. 2. 2. 2. 2. 2. 2. 2.]\n",
      " [0. 1. 2. 2. 3. 3. 3. 3. 3. 3.]\n",
      " [0. 1. 2. 2. 3. 3. 3. 3. 3. 3.]\n",
      " [0. 1. 2. 2. 3. 4. 4. 4. 4. 4.]\n",
      " [0. 1. 2. 2. 3. 4. 4. 5. 5. 5.]\n",
      " [0. 1. 2. 2. 3. 4. 5. 5. 6. 6.]\n",
      " [0. 1. 2. 2. 3. 4. 5. 5. 6. 6.]]\n",
      "Backtrack Matrix: \n",
      "[[ 1.  0.  0.  0.  0.  0.  0.  0.  0.]\n",
      " [-1. -1.  1.  0.  0.  0.  0.  0.  0.]\n",
      " [-1.  1. -1.  1.  0.  0.  0.  0.  0.]\n",
      " [-1. -1. -1. -1. -1. -1. -1. -1. -1.]\n",
      " [-1. -1. -1. -1.  1.  0.  0.  0.  0.]\n",
      " [-1. -1. -1. -1. -1. -1.  1.  0.  0.]\n",
      " [-1. -1. -1. -1. -1.  1. -1.  1.  0.]\n",
      " [-1. -1. -1. -1. -1. -1. -1. -1. -1.]]\n"
     ]
    },
    {
     "data": {
      "text/plain": [
       "'AACTTG'"
      ]
     },
     "execution_count": 748,
     "metadata": {},
     "output_type": "execute_result"
    }
   ],
   "source": [
    "v = 'AACCTTGG'; w = 'ACACTGTGA'\n",
    "LCS_1(v,w)"
   ]
  },
  {
   "cell_type": "code",
   "execution_count": 752,
   "metadata": {},
   "outputs": [],
   "source": [
    "file = open('CC3-longest_common_subsequence.txt','r')\n",
    "data = file.read(); data = data.split('\\n'); file.close()\n",
    "v,w,_ = data; #print(v); print(w)"
   ]
  },
  {
   "cell_type": "code",
   "execution_count": 751,
   "metadata": {},
   "outputs": [
    {
     "name": "stdout",
     "output_type": "stream",
     "text": [
      "node matrix\n",
      "[[  0.   0.   0. ...   0.   0.   0.]\n",
      " [  0.   1.   1. ...   1.   1.   1.]\n",
      " [  0.   1.   1. ...   2.   2.   2.]\n",
      " ...\n",
      " [  0.   1.   2. ... 569. 570. 571.]\n",
      " [  0.   1.   2. ... 569. 570. 571.]\n",
      " [  0.   1.   2. ... 569. 570. 571.]]\n",
      "Backtrack Matrix: \n",
      "[[ 1.  0.  0. ...  0.  0.  0.]\n",
      " [-1. -1. -1. ...  0.  0.  0.]\n",
      " [-1. -1. -1. ...  0.  0.  0.]\n",
      " ...\n",
      " [-1. -1. -1. ... -1. -1. -1.]\n",
      " [-1. -1. -1. ... -1. -1. -1.]\n",
      " [-1. -1. -1. ... -1. -1. -1.]]\n",
      "TCCTTCCTCTAGGCATGGGCTGCCGCTCCCGACTCCGGGGTGTAGGATAACATGTACTGTGTCCAAGCACGGCACTTCTGAGCCAGCTCTGTGCTTCGCCCATCAGAAATGCTCAGGCCAGTCCAGTCTCCGGAGAAATGCGACGTGGGGCACTGCCCGAGGACCAGAGCTGCTGCCCCCCGTGGGTAGGTAGATACCCGTTATTCGTTCGGTCAGCACATTTAAGACGTGAGAAACCCAGAGCGAGGAGTGATACATTGCCCGCAAAATTTACAAAAGCTTCCCCCCAACTGCACGGAGCGTGACCCGACCAGTACAGTAGAAGGAAGTTAAGAGCGTGAGCTTCGCAGGTTAGCTTTGCAGCCGCGCAAAATTGATGGGCAGGTTGTACATCGACGCGGGTATAGATTTTCTCCGCTGGTGGCCATTTCGGTTTACGCCCTCGCATTACGACTAAATAGCTAAGCCGCTGTGAGGGTTTTTTCCAATAAGTTACTTAAGAATTTCGGGCTTGTATGCCGAATCTTGGCGCCGCGATTGCATTCAGGGTCTTTCTTCTGACGATGGTGTC\n",
      "571\n"
     ]
    }
   ],
   "source": [
    "LCS = LCS_1(v,w)\n",
    "path_length = len(LCS); print(LCS); print(path_length)"
   ]
  },
  {
   "cell_type": "markdown",
   "metadata": {},
   "source": [
    "<b> Longest Path In DAG"
   ]
  },
  {
   "cell_type": "code",
   "execution_count": 81,
   "metadata": {},
   "outputs": [
    {
     "name": "stdout",
     "output_type": "stream",
     "text": [
      "['a->b:3', 'a->c:6', 'a->d:5', 'b->c:2', 'b->f:4', 'c->e:4', 'c->f:3', 'c->g:7', 'd->e:4', 'd->f:5', 'e->g:2']\n",
      "a\n",
      "b\n"
     ]
    }
   ],
   "source": [
    "import numpy as np, math as m\n",
    "file = open('CC4-longest_path_in_DAG.txt','r')\n",
    "data = file.read(); data = data.split('\\n'); \n",
    "start, end, node_weights = data[0], data[1], data[2:-1]; file.close(); start = start; end = end\n",
    "print(node_weights); print(start); print(end)\n",
    "## Turn data into start points, end point, weights\n",
    "node_weights = [node_weight.split(':') for node_weight in node_weights]; \n",
    "nodes_ = [x.split('->') for x,y in node_weights]; weight_array = [int(y) for x,y in node_weights]; \n",
    "start_array = [start for start,end in nodes_]; end_array = [end for start,end in nodes_];"
   ]
  },
  {
   "cell_type": "code",
   "execution_count": 154,
   "metadata": {},
   "outputs": [],
   "source": [
    "from collections import defaultdict\n",
    "from itertools import chain\n",
    "def Node2Dict(start_array, end_array, weight_array):     # turn information into dictionary with all information \n",
    "    graph = defaultdict(list)\n",
    "    for start, end, weight in zip(start_array,end_array, weight_array):\n",
    "        graph[start].append((end,weight))\n",
    "    return graph"
   ]
  },
  {
   "cell_type": "code",
   "execution_count": 155,
   "metadata": {},
   "outputs": [
    {
     "name": "stdout",
     "output_type": "stream",
     "text": [
      "dict_keys(['a', 'b', 'c', 'd', 'e'])\n",
      "dict_values([[('b', 3), ('c', 6), ('d', 5)], [('c', 2), ('f', 4)], [('e', 4), ('f', 3), ('g', 7)], [('e', 4), ('f', 5)], [('g', 2)]])\n"
     ]
    }
   ],
   "source": [
    "graph = Node2Dict(start_array, end_array, weight_array)\n",
    "print(graph.keys()); print(graph.values())"
   ]
  },
  {
   "cell_type": "markdown",
   "metadata": {},
   "source": [
    "<b>Set maximum weights to each vertice, record the maximum & that the vertice"
   ]
  },
  {
   "cell_type": "code",
   "execution_count": 225,
   "metadata": {},
   "outputs": [],
   "source": [
    "# Recursively \n",
    "# Find node Maximum\n",
    "class DAG:\n",
    "    def __init__(self,graph):\n",
    "        self.graph = graph\n",
    "        self.startnodes = graph.keys()          # List of nodes\n",
    "        self.allnodes =  set(list(chain.from_iterable([[x for (x,w) in item] for item in graph.values()]))).union(self.startnodes)\n",
    "        self.NumVertices = len(self.allnodes)\n",
    "        print('All Nodes: '+ str(self.NumVertices) + ': '+ str(self.allnodes))\n",
    "        print('Start nodes: '+ str(len(self.startnodes)) + ': '+ str(list(self.startnodes)))\n",
    "# Recursive backtracking     \n",
    "    def DAGPath_sortutil(self, current_node, visited, path):\n",
    "        visited[current_node] = True\n",
    "        if current_node in self.startnodes: \n",
    "            for next_node, weight in self.graph[current_node]: \n",
    "                if next_node in self.startnodes:\n",
    "                    if not visited[next_node]:                     ### If visited[node] == False\n",
    "                        self.DAGPath_sortutil(next_node,visited,path)\n",
    "        path.append(current_node)          \n",
    "# Find longest path\n",
    "    def DAGPath(self, start, end):\n",
    "        visited = dict.fromkeys(self.startnodes, False)        # Boolean for nodes : visited/ not visited\n",
    "        path = [] \n",
    "        ### Fault-proof\n",
    "        if start not in self.graph.keys():\n",
    "            print('Weird...No start node!')\n",
    "            return None\n",
    "        if start==end:\n",
    "            return 0, start\n",
    "        for i in self.startnodes: \n",
    "            if visited[i] == False: \n",
    "                self.DAGPath_sortutil(start, visited, path)\n",
    "        dist = dict.fromkeys(self.allnodes, 0);\n",
    "        while path:\n",
    "            i = path.pop(); \n",
    "            for next_node,weight in self.graph[i]: \n",
    "                if  dist[i] + weight >  dist[next_node]: \n",
    "                    print('node: ' + str(i), 'next_node: ' + str(next_node),'end weight:'+ str(dist[i]+weight)) if dist[i] != 0 else 0\n",
    "                    dist[next_node] = dist[i] + weight\n",
    "        return dist[end], \n",
    "    \n",
    "    def pathPrinter(path_list):\n",
    "        text = ''\n",
    "        for i in path_list[:-1]:\n",
    "            text += str(i) + '->'\n",
    "        return text+path_list[-1]"
   ]
  },
  {
   "cell_type": "code",
   "execution_count": 226,
   "metadata": {},
   "outputs": [
    {
     "name": "stdout",
     "output_type": "stream",
     "text": [
      "All Nodes: 7: {'b', 'f', 'e', 'a', 'c', 'g', 'd'}\n",
      "Start nodes: 5: ['a', 'b', 'c', 'd', 'e']\n",
      "a\n",
      "b\n",
      "node: d next_node: e end weight:9\n",
      "node: d next_node: f end weight:10\n",
      "node: c next_node: e end weight:10\n",
      "node: c next_node: g end weight:13\n"
     ]
    },
    {
     "data": {
      "text/plain": [
       "(13,)"
      ]
     },
     "execution_count": 226,
     "metadata": {},
     "output_type": "execute_result"
    }
   ],
   "source": [
    "g = DAG(graph); print(start); print(end)\n",
    "g.DAGPath(start,'g')"
   ]
  },
  {
   "cell_type": "code",
   "execution_count": 219,
   "metadata": {},
   "outputs": [],
   "source": [
    "# Recursively \n",
    "# Find node Maximum\n",
    "class DAG:\n",
    "    def __init__(self,graph):\n",
    "        self.graph = graph\n",
    "        self.startnodes = graph.keys()          # List of nodes\n",
    "        self.allnodes =  set(list(chain.from_iterable([[x for (x,w) in item] for item in graph.values()]))).union(self.startnodes)\n",
    "        self.NumVertices = len(self.allnodes)\n",
    "        print('All Nodes: '+ str(self.NumVertices) + ' nodes : '+ str(self.allnodes))\n",
    "        print('Start nodes: '+ str(len(self.startnodes)) + ' nodes: '+ str(list(self.startnodes)))\n",
    "\n",
    "    def DAGLongestPath(self, start, end, path =[]):\n",
    "        path = path + [start]\n",
    "        if start == end:\n",
    "            return [path]\n",
    "        if start not in self.startnodes:\n",
    "            return []\n",
    "        optimal_path = []; all_paths = []; path_weight = 0;\n",
    "        for (node,weight) in self.graph[start]:\n",
    "            if node not in path:\n",
    "                newpaths = self.find_all_paths(node, end, path)\n",
    "                for newpath in newpaths:\n",
    "                    all_paths.append(newpath)\n",
    "                    old_weight = self.PathSum(all_paths[-1])\n",
    "                    new_weight = self.PathSum(newpath)\n",
    "                    if new_weight > path_weight:\n",
    "                        optimal_path.append(newpath)\n",
    "                        path_weight = new_weight\n",
    "        return path_weight, optimal_path[-1], all_paths\n",
    "    \n",
    "    def find_all_paths(self, start, end, path =[]):\n",
    "        path = path + [start]\n",
    "        if start == end:\n",
    "            return [path]\n",
    "        if start not in self.startnodes:\n",
    "            return []\n",
    "        paths = []\n",
    "        for (node,weight) in self.graph[start]:\n",
    "            if node not in path:\n",
    "                newpaths = self.find_all_paths(node, end, path)\n",
    "                for newpath in newpaths:\n",
    "                    paths.append(newpath)\n",
    "        return paths\n",
    "    \n",
    "    def PathSum(self,path_list):\n",
    "        weight = 0; #print('path_list :',path_list)\n",
    "        if path_list == []:\n",
    "            return 0\n",
    "        elif isinstance(path_list,int):\n",
    "            return path_list\n",
    "        for i in range(len(path_list[:-1])):\n",
    "            thisweight = [path_weight for (next_node, path_weight) in self.graph[path_list[i]] if next_node == path_list[i+1]][0]\n",
    "            weight += thisweight\n",
    "        return weight\n",
    "    def PathPrinter(self, pathlist):\n",
    "        text = ''\n",
    "        return ''.join([text+pathlist[i]+'->' for i in range(len(pathlist)-1)])"
   ]
  },
  {
   "cell_type": "code",
   "execution_count": 215,
   "metadata": {},
   "outputs": [
    {
     "name": "stdout",
     "output_type": "stream",
     "text": [
      "All Nodes: 7 nodes : {'b', 'f', 'e', 'a', 'c', 'g', 'd'}\n",
      "Start nodes: 5 nodes: ['a', 'b', 'c', 'd', 'e']\n"
     ]
    },
    {
     "data": {
      "text/plain": [
       "(13,\n",
       " ['a', 'c', 'g'],\n",
       " [['a', 'b', 'c', 'e', 'g'],\n",
       "  ['a', 'b', 'c', 'g'],\n",
       "  ['a', 'c', 'e', 'g'],\n",
       "  ['a', 'c', 'g'],\n",
       "  ['a', 'd', 'e', 'g']])"
      ]
     },
     "execution_count": 215,
     "metadata": {},
     "output_type": "execute_result"
    }
   ],
   "source": [
    "a = DAG(graph); \n",
    "a.DAGLongestPath('a','g')"
   ]
  },
  {
   "cell_type": "code",
   "execution_count": null,
   "metadata": {},
   "outputs": [],
   "source": []
  }
 ],
 "metadata": {
  "kernelspec": {
   "display_name": "Python 3",
   "language": "python",
   "name": "python3"
  },
  "language_info": {
   "codemirror_mode": {
    "name": "ipython",
    "version": 3
   },
   "file_extension": ".py",
   "mimetype": "text/x-python",
   "name": "python",
   "nbconvert_exporter": "python",
   "pygments_lexer": "ipython3",
   "version": "3.6.6"
  }
 },
 "nbformat": 4,
 "nbformat_minor": 2
}
