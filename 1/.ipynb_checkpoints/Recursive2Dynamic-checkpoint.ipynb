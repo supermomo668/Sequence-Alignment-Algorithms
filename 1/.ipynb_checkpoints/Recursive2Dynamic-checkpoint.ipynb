{
 "cells": [
  {
   "cell_type": "markdown",
   "metadata": {},
   "source": [
    "<b>Recursive Changes"
   ]
  },
  {
   "cell_type": "code",
   "execution_count": 40,
   "metadata": {},
   "outputs": [
    {
     "data": {
      "text/html": [
       "<img src=\"img/recursive-calls.png\",width = 400, height = 400>\n"
      ],
      "text/plain": [
       "<IPython.core.display.HTML object>"
      ]
     },
     "metadata": {},
     "output_type": "display_data"
    }
   ],
   "source": [
    "%%html\n",
    "<img src=\"img/recursive-calls.png\",width = 400, height = 400>"
   ]
  },
  {
   "cell_type": "code",
   "execution_count": 40,
   "metadata": {},
   "outputs": [],
   "source": [
    "import math as m\n",
    "def RecursiveChanges(money, coins):     #money: single value   #coins: array of denominator values available\n",
    "    if money == 0 :\n",
    "        return 0\n",
    "    minimum_number_coins = m.inf\n",
    "    count = 0;\n",
    "    for coin in coins:                 #for each coin in [coin1, coin2, coin3...]\n",
    "        if coin <= money:\n",
    "            Number_of_coins = RecursiveChanges(money-coin, coins)\n",
    "        if Number_of_coins < minimum_number_coins:\n",
    "            minimum_number_coins = Number_of_coins + 1\n",
    "    return minimum_number_coins"
   ]
  },
  {
   "cell_type": "code",
   "execution_count": 41,
   "metadata": {},
   "outputs": [
    {
     "data": {
      "text/plain": [
       "4"
      ]
     },
     "execution_count": 41,
     "metadata": {},
     "output_type": "execute_result"
    }
   ],
   "source": [
    "RecursiveChanges(17,[1,4,5])"
   ]
  },
  {
   "cell_type": "code",
   "execution_count": 42,
   "metadata": {},
   "outputs": [
    {
     "name": "stdout",
     "output_type": "stream",
     "text": [
      "3 3 3 4 4 4 4 4 5 5\n"
     ]
    }
   ],
   "source": [
    "## Generate an array for m = 1 - 12\n",
    "max_money = 22; minimum_coins = []; coins = [1,4,5]\n",
    "for money in range(13,max_money+1):\n",
    "    minimum_coins.append(RecursiveChanges(money,coins))\n",
    "print(' '.join(str(i) for i in minimum_coins))"
   ]
  },
  {
   "cell_type": "markdown",
   "metadata": {},
   "source": [
    "<b>Dynamic Programming "
   ]
  },
  {
   "cell_type": "code",
   "execution_count": 75,
   "metadata": {},
   "outputs": [],
   "source": [
    "import math as m\n",
    "def DP_Changes(money,coins):        #money: single value   #coins: array of denominator values available\n",
    "    minimum_coins = []\n",
    "    minimum_coins.insert(0,0)\n",
    "    for mon in range(money):\n",
    "        minimum_coins.append(m.inf)\n",
    "        for coin in coins:\n",
    "            if mon >= coin:           # don't bother if the coin value is larger than money (you cannot get integer)\n",
    "                last_minimum_coin = minimum_coins[mon -coin]    # recall previous minimum coin for (m-coin)\n",
    "                if last_minimum_coin + 1 < minimum_coins[mon]:\n",
    "                    minimum_coins[mon] = last_minimum_coin + 1\n",
    "    return minimum_coins[mon]"
   ]
  },
  {
   "cell_type": "code",
   "execution_count": 72,
   "metadata": {},
   "outputs": [
    {
     "name": "stdout",
     "output_type": "stream",
     "text": [
      "19281\n",
      "[6, 5, 3, 1]\n"
     ]
    }
   ],
   "source": [
    "file = open('CC1-change_problem.txt','r')\n",
    "data = file.read(); data\n",
    "money, coins, _ = data.split('\\n'); money = int(money); coins = [int(i) for i in coins.split(',')]\n",
    "print(money); print(coins)\n",
    "file.close()"
   ]
  },
  {
   "cell_type": "code",
   "execution_count": 73,
   "metadata": {},
   "outputs": [
    {
     "name": "stdout",
     "output_type": "stream",
     "text": [
      "3214\n"
     ]
    }
   ],
   "source": [
    "minimum_coin_array = DP_Changes(money, coins)\n",
    "print(minimum_coin_array)"
   ]
  },
  {
   "cell_type": "markdown",
   "metadata": {},
   "source": [
    "<b>Manhattan Tourist Problem"
   ]
  },
  {
   "cell_type": "code",
   "execution_count": 196,
   "metadata": {},
   "outputs": [],
   "source": [
    "import numpy as np\n",
    "def ManhattanTourist(row, col, down_matrix, right_matrix,diag_matrix): #If 4x4 grid | down matrix: 4x5 | right matrix: 5 x 4\n",
    "    node_matrix = np.zeros((row+1,col+1))    \n",
    "    for i in range(0,row):   # calculate first column #row: 4 #reiterate 4 times\n",
    "        node_matrix[i+1][0] = node_matrix[i][0] + down_matrix[i][0]    #down_matrix 4x5\n",
    "    for j in range(0, col):  # calculate first column #col: 4 #reiterate 4 times\n",
    "        node_matrix[0][j+1] = node_matrix[0][j] + right_matrix[0][j]   #right_matrix 5x4\n",
    "    \n",
    "    for i in range(1,row+1):   # Start calculating (1,1),(1,2)....(1,5)\n",
    "        for j in range(1,col+1):\n",
    "            node2node_down = node_matrix[i-1][j] + down_matrix[i-1][j]; \n",
    "            node2node_right = node_matrix[i][j-1] + right_matrix[i][j-1];\n",
    "            node_matrix[i][j] = max(node2node_down,node2node_right)      #get max node value\n",
    "            if diag_matrix != '':    ## diagonal option\n",
    "                node_matrix[i][j] = max(node_matrix[i][j],node_matrix[i-1][j-1]+ diag_matrix[i-1][j-1])\n",
    "            #print(node_matrix)\n",
    "    return node_matrix[-1][-1]"
   ]
  },
  {
   "cell_type": "code",
   "execution_count": 11,
   "metadata": {},
   "outputs": [
    {
     "name": "stdout",
     "output_type": "stream",
     "text": [
      "5\n",
      "14\n"
     ]
    }
   ],
   "source": [
    "file = open('CC2-Manhattan_tourist.txt','r')\n",
    "data = file.read(); data = data.split('\\n')\n",
    "row, col = data[0].split(' '); row = int(row); col = int(col); \n",
    "down_matrix_data = data[1:row+1]; down_matrix_data =  [i.split(' ') for i in down_matrix_data]\n",
    "right_matrix_data = data[row+2:-1]; right_matrix_data = [i.split(' ') for i in right_matrix_data]\n",
    "file.close()\n",
    "print(row); print(col);"
   ]
  },
  {
   "cell_type": "code",
   "execution_count": 198,
   "metadata": {},
   "outputs": [
    {
     "name": "stdout",
     "output_type": "stream",
     "text": [
      "[[4 1 4 3 1 4 0 1 2 4 3 0 0 3 3]\n",
      " [3 4 4 4 0 1 2 1 0 2 1 1 1 0 1]\n",
      " [3 1 2 1 1 4 3 1 0 0 3 1 4 3 1]\n",
      " [4 3 1 2 2 3 1 1 4 3 0 3 2 1 3]\n",
      " [0 0 2 4 1 4 4 0 4 2 2 0 1 0 1]]\n"
     ]
    }
   ],
   "source": [
    "down_matrix = np.array([[int(item) for item  in row] for row in down_matrix_data])\n",
    "right_matrix = np.array([[int(item) for item in row] for row in right_matrix_data])\n",
    "print(down_matrix); "
   ]
  },
  {
   "cell_type": "code",
   "execution_count": 199,
   "metadata": {},
   "outputs": [
    {
     "data": {
      "text/plain": [
       "52.0"
      ]
     },
     "execution_count": 199,
     "metadata": {},
     "output_type": "execute_result"
    }
   ],
   "source": [
    "ManhattanTourist(row,col, down_matrix, right_matrix,_)"
   ]
  },
  {
   "cell_type": "markdown",
   "metadata": {},
   "source": [
    "<b>Matrix Backtracking"
   ]
  },
  {
   "cell_type": "code",
   "execution_count": 726,
   "metadata": {},
   "outputs": [],
   "source": [
    "# Denote \"down\", \"right\",\"diagonal\" (match) = -1, 0, 1     Dummy Variables\n",
    "def LCS_Backtrack(string1, string2): #If 4x4 grid       string1: vertical    string2: horizontal\n",
    "    k1 = len(string1); k2 = len(string2);\n",
    "    node_matrix = np.zeros((k1+1 ,k2+1))    # assigned a 2D zero matrix for node value 5x5  \n",
    "    backtrack_matrix = np.zeros((k1,k2))      # backtrack pointers\n",
    "    for i in range(1,k1+1):   # Start calculating (1,1),(1,2)....(1,5)\n",
    "        for j in range(1,k2+1):\n",
    "#Form Node Matrix with Max Value\n",
    "            if string1[i-1] == string2[j-1]:\n",
    "                match = 1\n",
    "            else:\n",
    "                match = 0\n",
    "            node_matrix[i][j] = max(node_matrix[i-1][j],node_matrix[i][j-1], node_matrix[i-1][j-1] + match)\n",
    "# Get pointer from value comparison\n",
    "            if node_matrix[i][j] == node_matrix[i-1][j]:      #Go DOWN\n",
    "                backtrack_matrix[i-1][j-1] = -1\n",
    "            elif node_matrix[i][j] == node_matrix[i][j-1]:    #Go LEFT\n",
    "                backtrack_matrix[i-1][j-1] = 0            \n",
    "            elif node_matrix[i][j] == node_matrix[i-1][j-1] + 1  :  #Go Diagonal\n",
    "                backtrack_matrix[i-1][j-1] = 1\n",
    "    print('node matrix\\n' + str(node_matrix))\n",
    "    return backtrack_matrix"
   ]
  },
  {
   "cell_type": "code",
   "execution_count": 727,
   "metadata": {},
   "outputs": [
    {
     "name": "stdout",
     "output_type": "stream",
     "text": [
      "node matrix\n",
      "[[0. 0. 0. 0. 0. 0. 0. 0. 0. 0.]\n",
      " [0. 1. 1. 1. 1. 1. 1. 1. 1. 1.]\n",
      " [0. 1. 1. 2. 2. 2. 2. 2. 2. 2.]\n",
      " [0. 1. 2. 2. 3. 3. 3. 3. 3. 3.]\n",
      " [0. 1. 2. 2. 3. 3. 3. 3. 3. 3.]\n",
      " [0. 1. 2. 2. 3. 4. 4. 4. 4. 4.]\n",
      " [0. 1. 2. 2. 3. 4. 4. 5. 5. 5.]\n",
      " [0. 1. 2. 2. 3. 4. 5. 5. 6. 6.]\n",
      " [0. 1. 2. 2. 3. 4. 5. 5. 6. 6.]]\n"
     ]
    },
    {
     "data": {
      "text/plain": [
       "array([[ 1.,  0.,  0.,  0.,  0.,  0.,  0.,  0.,  0.],\n",
       "       [-1., -1.,  1.,  0.,  0.,  0.,  0.,  0.,  0.],\n",
       "       [-1.,  1., -1.,  1.,  0.,  0.,  0.,  0.,  0.],\n",
       "       [-1., -1., -1., -1., -1., -1., -1., -1., -1.],\n",
       "       [-1., -1., -1., -1.,  1.,  0.,  0.,  0.,  0.],\n",
       "       [-1., -1., -1., -1., -1., -1.,  1.,  0.,  0.],\n",
       "       [-1., -1., -1., -1., -1.,  1., -1.,  1.,  0.],\n",
       "       [-1., -1., -1., -1., -1., -1., -1., -1., -1.]])"
      ]
     },
     "execution_count": 727,
     "metadata": {},
     "output_type": "execute_result"
    }
   ],
   "source": [
    "backtrack_matrix = LCS_Backtrack('AACCTTGG','ACACTGTGA'); \n",
    "backtrack_matrix"
   ]
  },
  {
   "cell_type": "code",
   "execution_count": 747,
   "metadata": {},
   "outputs": [],
   "source": [
    "## Uses While Loop\n",
    "def LCS_1(v,w):\n",
    "    backtrack_matrix = LCS_Backtrack(v,w); print('Backtrack Matrix: \\n'+str(backtrack_matrix))\n",
    "    i = len(v)-1; j = len(w)-1; string1 = ''; string2 = ''; LCS_array = []\n",
    "    while i >= 0 or j >= 0:\n",
    "        '''\n",
    "        print('(i,j)= ('+ str(i)+ ', ' + str(j)+')' )\n",
    "        print('Pointer: ' + str(backtrack_matrix[i][j]))\n",
    "        ''' \n",
    "        if backtrack_matrix[i][j] == -1:  ## Down Pointer, go Up\n",
    "            i = i - 1\n",
    "            #string2 = '-' + string2; string1 = v[i+1] + string1\n",
    "        elif backtrack_matrix[i][j] == 0 :    ## Right pointer, go LEFT\n",
    "            j = j - 1\n",
    "            #string1 = '-' + string1; string2 = w[j+1] + string2\n",
    "        elif backtrack_matrix[i][j] == 1:    ## Down pointer, go UP\n",
    "            #string1 = v[i+1] + string1; string2 = w[i+1] + string2\n",
    "            LCS_array.insert(0,v[i])\n",
    "            i = i - 1; j = j - 1;\n",
    "    return ''.join(LCS_array)    #string1, string2\n",
    "\n",
    "## Recursive form\n",
    "def LCS_2(backtrack_matrix, v, i, j):     # i = len(i); j = len(j)\n",
    "    if i==0 or j==0:\n",
    "        return\n",
    "    backtrack_matrix = LCS_Backtrack(v,w); #print(backtrack_matrix)\n",
    "    if backtrack_matrix[i][j] == -1:    # Down pointer, go up\n",
    "        LCS_2(backtrack_matrix, v, i-1, j)\n",
    "    elif backtrack_matrix[i][j] == 0:    # Right pointer, go left\n",
    "        LCS_2(backtrack_matrix, v, i, j-1)\n",
    "    else :    #backtrack_matrix[i][j] == 1\n",
    "        LCS_2(backtrack_matrix, v, i-1, j-1)\n",
    "        print(v[i])"
   ]
  },
  {
   "cell_type": "code",
   "execution_count": 748,
   "metadata": {},
   "outputs": [
    {
     "name": "stdout",
     "output_type": "stream",
     "text": [
      "node matrix\n",
      "[[0. 0. 0. 0. 0. 0. 0. 0. 0. 0.]\n",
      " [0. 1. 1. 1. 1. 1. 1. 1. 1. 1.]\n",
      " [0. 1. 1. 2. 2. 2. 2. 2. 2. 2.]\n",
      " [0. 1. 2. 2. 3. 3. 3. 3. 3. 3.]\n",
      " [0. 1. 2. 2. 3. 3. 3. 3. 3. 3.]\n",
      " [0. 1. 2. 2. 3. 4. 4. 4. 4. 4.]\n",
      " [0. 1. 2. 2. 3. 4. 4. 5. 5. 5.]\n",
      " [0. 1. 2. 2. 3. 4. 5. 5. 6. 6.]\n",
      " [0. 1. 2. 2. 3. 4. 5. 5. 6. 6.]]\n",
      "Backtrack Matrix: \n",
      "[[ 1.  0.  0.  0.  0.  0.  0.  0.  0.]\n",
      " [-1. -1.  1.  0.  0.  0.  0.  0.  0.]\n",
      " [-1.  1. -1.  1.  0.  0.  0.  0.  0.]\n",
      " [-1. -1. -1. -1. -1. -1. -1. -1. -1.]\n",
      " [-1. -1. -1. -1.  1.  0.  0.  0.  0.]\n",
      " [-1. -1. -1. -1. -1. -1.  1.  0.  0.]\n",
      " [-1. -1. -1. -1. -1.  1. -1.  1.  0.]\n",
      " [-1. -1. -1. -1. -1. -1. -1. -1. -1.]]\n"
     ]
    },
    {
     "data": {
      "text/plain": [
       "'AACTTG'"
      ]
     },
     "execution_count": 748,
     "metadata": {},
     "output_type": "execute_result"
    }
   ],
   "source": [
    "v = 'AACCTTGG'; w = 'ACACTGTGA'\n",
    "LCS_1(v,w)"
   ]
  },
  {
   "cell_type": "code",
   "execution_count": 752,
   "metadata": {},
   "outputs": [],
   "source": [
    "file = open('CC3-longest_common_subsequence.txt','r')\n",
    "data = file.read(); data = data.split('\\n'); file.close()\n",
    "v,w,_ = data; #print(v); print(w)"
   ]
  },
  {
   "cell_type": "code",
   "execution_count": 751,
   "metadata": {},
   "outputs": [
    {
     "name": "stdout",
     "output_type": "stream",
     "text": [
      "node matrix\n",
      "[[  0.   0.   0. ...   0.   0.   0.]\n",
      " [  0.   1.   1. ...   1.   1.   1.]\n",
      " [  0.   1.   1. ...   2.   2.   2.]\n",
      " ...\n",
      " [  0.   1.   2. ... 569. 570. 571.]\n",
      " [  0.   1.   2. ... 569. 570. 571.]\n",
      " [  0.   1.   2. ... 569. 570. 571.]]\n",
      "Backtrack Matrix: \n",
      "[[ 1.  0.  0. ...  0.  0.  0.]\n",
      " [-1. -1. -1. ...  0.  0.  0.]\n",
      " [-1. -1. -1. ...  0.  0.  0.]\n",
      " ...\n",
      " [-1. -1. -1. ... -1. -1. -1.]\n",
      " [-1. -1. -1. ... -1. -1. -1.]\n",
      " [-1. -1. -1. ... -1. -1. -1.]]\n",
      "TCCTTCCTCTAGGCATGGGCTGCCGCTCCCGACTCCGGGGTGTAGGATAACATGTACTGTGTCCAAGCACGGCACTTCTGAGCCAGCTCTGTGCTTCGCCCATCAGAAATGCTCAGGCCAGTCCAGTCTCCGGAGAAATGCGACGTGGGGCACTGCCCGAGGACCAGAGCTGCTGCCCCCCGTGGGTAGGTAGATACCCGTTATTCGTTCGGTCAGCACATTTAAGACGTGAGAAACCCAGAGCGAGGAGTGATACATTGCCCGCAAAATTTACAAAAGCTTCCCCCCAACTGCACGGAGCGTGACCCGACCAGTACAGTAGAAGGAAGTTAAGAGCGTGAGCTTCGCAGGTTAGCTTTGCAGCCGCGCAAAATTGATGGGCAGGTTGTACATCGACGCGGGTATAGATTTTCTCCGCTGGTGGCCATTTCGGTTTACGCCCTCGCATTACGACTAAATAGCTAAGCCGCTGTGAGGGTTTTTTCCAATAAGTTACTTAAGAATTTCGGGCTTGTATGCCGAATCTTGGCGCCGCGATTGCATTCAGGGTCTTTCTTCTGACGATGGTGTC\n",
      "571\n"
     ]
    }
   ],
   "source": [
    "LCS = LCS_1(v,w)\n",
    "path_length = len(LCS); print(LCS); print(path_length)"
   ]
  },
  {
   "cell_type": "markdown",
   "metadata": {},
   "source": [
    "<b> Longest Path In DAG"
   ]
  },
  {
   "cell_type": "code",
   "execution_count": 71,
   "metadata": {},
   "outputs": [
    {
     "name": "stdout",
     "output_type": "stream",
     "text": [
      "['7->32:14', '16->33:27', '6->9:34', '1->31:36', '8->19:37', '27->32:29', '0->4:4', '15->25:19', '8->16:1', '13->16:29', '13->14:36', '3->21:14', '23->33:7', '17->27:18', '1->5:6', '21->27:39', '4->11:29', '23->24:32', '3->17:2', '9->14:26', '2->4:7', '0->23:21', '3->32:29', '1->18:22', '7->14:24', '22->32:37', '10->11:13', '4->18:35', '18->19:31', '16->31:18', '1->14:0', '14->32:17', '2->5:7', '2->8:7', '14->29:26', '20->22:9', '4->29:11', '24->26:22', '11->25:21', '3->12:35', '24->29:20', '5->27:10', '7->11:19', '5->8:8', '20->34:3', '8->11:4', '8->21:5', '14->18:39', '7->33:30', '5->21:4', '10->25:5', '10->14:15', '3->27:19', '25->34:27', '12->17:32', '1->13:1', '14->21:28', '16->28:11', '4->17:39', '7->12:18', '9->34:11', '17->22:7', '3->22:36', '11->17:31', '3->7:31', '10->19:9', '16->21:6', '2->12:30', '13->34:1', '22->23:25', '4->26:11', '19->31:24', '1->20:24', '12->28:22', '24->32:9', '11->27:30', '27->29:33', '1->23:8', '9->25:26', '11->33:28', '3->30:17', '21->33:27', '5->20:25', '13->20:2', '4->8:4', '4->10:1', '23->30:8', '14->24:13', '25->30:6', '12->27:18', '6->21:39', '16->24:39', '2->16:10', '2->32:1', '6->23:35', '22->28:8', '7->28:6', '19->20:38', '3->31:4']\n",
      "10\n",
      "32\n"
     ]
    }
   ],
   "source": [
    "import numpy as np, math as m\n",
    "file = open('CC4-longest_path_in_DAG.txt','r')\n",
    "data = file.read(); data = data.split('\\n'); \n",
    "start, end, node_weights = data[0], data[1], data[2:-1]; file.close(); start = int(start); end = int(end)\n",
    "print(node_weights); print(start); print(end)\n",
    "## Turn data into start points, end point, weights\n",
    "node_weights = [node_weight.split(':') for node_weight in node_weights]; \n",
    "nodes_ = [x.split('->') for x,y in node_weights]; weight_array = [int(y) for x,y in node_weights]; \n",
    "start_array = [int(start) for start,end in nodes_];end_array = [int(end) for start,end in nodes_];"
   ]
  },
  {
   "cell_type": "code",
   "execution_count": 72,
   "metadata": {},
   "outputs": [],
   "source": [
    "from collections import defaultdict\n",
    "def Node2Dict(start_array, end_array, weight_array):     # turn information into dictionary with all information \n",
    "    graph = defaultdict(list)\n",
    "    for start, end, weight in zip(start_array,end_array, weight_array):\n",
    "        graph[start].append((end,weight))\n",
    "    return graph"
   ]
  },
  {
   "cell_type": "code",
   "execution_count": 73,
   "metadata": {},
   "outputs": [
    {
     "name": "stdout",
     "output_type": "stream",
     "text": [
      "defaultdict(<class 'list'>, {7: [(32, 14), (14, 24), (11, 19), (33, 30), (12, 18), (28, 6)], 16: [(33, 27), (31, 18), (28, 11), (21, 6), (24, 39)], 6: [(9, 34), (21, 39), (23, 35)], 1: [(31, 36), (5, 6), (18, 22), (14, 0), (13, 1), (20, 24), (23, 8)], 8: [(19, 37), (16, 1), (11, 4), (21, 5)], 27: [(32, 29), (29, 33)], 0: [(4, 4), (23, 21)], 15: [(25, 19)], 13: [(16, 29), (14, 36), (34, 1), (20, 2)], 3: [(21, 14), (17, 2), (32, 29), (12, 35), (27, 19), (22, 36), (7, 31), (30, 17), (31, 4)], 23: [(33, 7), (24, 32), (30, 8)], 17: [(27, 18), (22, 7)], 21: [(27, 39), (33, 27)], 4: [(11, 29), (18, 35), (29, 11), (17, 39), (26, 11), (8, 4), (10, 1)], 9: [(14, 26), (34, 11), (25, 26)], 2: [(4, 7), (5, 7), (8, 7), (12, 30), (16, 10), (32, 1)], 22: [(32, 37), (23, 25), (28, 8)], 10: [(11, 13), (25, 5), (14, 15), (19, 9)], 18: [(19, 31)], 14: [(32, 17), (29, 26), (18, 39), (21, 28), (24, 13)], 20: [(22, 9), (34, 3)], 24: [(26, 22), (29, 20), (32, 9)], 11: [(25, 21), (17, 31), (27, 30), (33, 28)], 5: [(27, 10), (8, 8), (21, 4), (20, 25)], 25: [(34, 27), (30, 6)], 12: [(17, 32), (28, 22), (27, 18)], 19: [(31, 24), (20, 38)]})\n"
     ]
    }
   ],
   "source": [
    "graph = Node2Dict(start_array, end_array, weight_array)\n",
    "print(graph);"
   ]
  },
  {
   "cell_type": "markdown",
   "metadata": {},
   "source": [
    "Set maximum weights to each vertice, record the maximum & that the vertice"
   ]
  },
  {
   "cell_type": "code",
   "execution_count": 102,
   "metadata": {},
   "outputs": [],
   "source": [
    "# Recursively \n",
    "# Find node Maximum\n",
    "class DAG:\n",
    "    def __init__(self,graph):\n",
    "        self.nodes = graph.keys()          # List of nodes\n",
    "        self.graph = graph       \n",
    "        if end not in self.nodes:\n",
    "            self.NumVertices = len(self.nodes) + 1\n",
    "\n",
    "# Recursive backtracking     \n",
    "    def DAGPath_util(self, current_node, visited, path):\n",
    "        visited[current_node] = True\n",
    "        if current_node in self.graph.keys(): \n",
    "            for node, weight in self.graph[current_node]: \n",
    "                if visited[node] == False: \n",
    "                    self.DAGPath_util(node,visited,path) \n",
    "        path.append(v) \n",
    "        print(path)\n",
    "\n",
    "# Find longest path\n",
    "    def DAGPath(self, start, end):\n",
    "        \n",
    "        visited = [False]*self.NumVertices        # Boolean of nodes \n",
    "        path = [] \n",
    "        for i in range(self.NumVertices): \n",
    "            if visited[i] == False: \n",
    "                self.DAGPath_util(start, visited, path) \n",
    "        while path:  \n",
    "            dist = [0] * (self.NumVertices); dist[start] = 0\n",
    "            i = path.pop() \n",
    "            for node,weight in self.graph[i]: \n",
    "                if  dist[i] + weight >  dist[node]: \n",
    "                    dist[node] = dist[i] + weight \n",
    "        for i in range(self.NumVertices): \n",
    "            print (\"%d\" %dist[i]) if dist[i] != float(\"Inf\") else  \"Inf\" ,"
   ]
  },
  {
   "cell_type": "code",
   "execution_count": 103,
   "metadata": {},
   "outputs": [
    {
     "ename": "IndexError",
     "evalue": "list index out of range",
     "output_type": "error",
     "traceback": [
      "\u001b[1;31m---------------------------------------------------------------------------\u001b[0m",
      "\u001b[1;31mIndexError\u001b[0m                                Traceback (most recent call last)",
      "\u001b[1;32m<ipython-input-103-fa5dafcb3dc3>\u001b[0m in \u001b[0;36m<module>\u001b[1;34m\u001b[0m\n\u001b[0;32m      1\u001b[0m \u001b[0mg\u001b[0m \u001b[1;33m=\u001b[0m \u001b[0mDAG\u001b[0m\u001b[1;33m(\u001b[0m\u001b[0mgraph\u001b[0m\u001b[1;33m)\u001b[0m\u001b[1;33m\u001b[0m\u001b[0m\n\u001b[1;32m----> 2\u001b[1;33m \u001b[0mg\u001b[0m\u001b[1;33m.\u001b[0m\u001b[0mDAGPath\u001b[0m\u001b[1;33m(\u001b[0m\u001b[1;36m10\u001b[0m\u001b[1;33m,\u001b[0m\u001b[1;36m32\u001b[0m\u001b[1;33m)\u001b[0m\u001b[1;33m\u001b[0m\u001b[0m\n\u001b[0m",
      "\u001b[1;32m<ipython-input-102-5a1d88b73aa5>\u001b[0m in \u001b[0;36mDAGPath\u001b[1;34m(self, start, end)\u001b[0m\n\u001b[0;32m     25\u001b[0m         \u001b[1;32mfor\u001b[0m \u001b[0mi\u001b[0m \u001b[1;32min\u001b[0m \u001b[0mrange\u001b[0m\u001b[1;33m(\u001b[0m\u001b[0mself\u001b[0m\u001b[1;33m.\u001b[0m\u001b[0mNumVertices\u001b[0m\u001b[1;33m)\u001b[0m\u001b[1;33m:\u001b[0m\u001b[1;33m\u001b[0m\u001b[0m\n\u001b[0;32m     26\u001b[0m             \u001b[1;32mif\u001b[0m \u001b[0mvisited\u001b[0m\u001b[1;33m[\u001b[0m\u001b[0mi\u001b[0m\u001b[1;33m]\u001b[0m \u001b[1;33m==\u001b[0m \u001b[1;32mFalse\u001b[0m\u001b[1;33m:\u001b[0m\u001b[1;33m\u001b[0m\u001b[0m\n\u001b[1;32m---> 27\u001b[1;33m                 \u001b[0mself\u001b[0m\u001b[1;33m.\u001b[0m\u001b[0mDAGPath_util\u001b[0m\u001b[1;33m(\u001b[0m\u001b[0mstart\u001b[0m\u001b[1;33m,\u001b[0m \u001b[0mvisited\u001b[0m\u001b[1;33m,\u001b[0m \u001b[0mpath\u001b[0m\u001b[1;33m)\u001b[0m\u001b[1;33m\u001b[0m\u001b[0m\n\u001b[0m\u001b[0;32m     28\u001b[0m         \u001b[1;32mwhile\u001b[0m \u001b[0mpath\u001b[0m\u001b[1;33m:\u001b[0m\u001b[1;33m\u001b[0m\u001b[0m\n\u001b[0;32m     29\u001b[0m             \u001b[0mdist\u001b[0m \u001b[1;33m=\u001b[0m \u001b[1;33m[\u001b[0m\u001b[1;36m0\u001b[0m\u001b[1;33m]\u001b[0m \u001b[1;33m*\u001b[0m \u001b[1;33m(\u001b[0m\u001b[0mself\u001b[0m\u001b[1;33m.\u001b[0m\u001b[0mNumVertices\u001b[0m\u001b[1;33m)\u001b[0m\u001b[1;33m;\u001b[0m \u001b[0mdist\u001b[0m\u001b[1;33m[\u001b[0m\u001b[0mstart\u001b[0m\u001b[1;33m]\u001b[0m \u001b[1;33m=\u001b[0m \u001b[1;36m0\u001b[0m\u001b[1;33m\u001b[0m\u001b[0m\n",
      "\u001b[1;32m<ipython-input-102-5a1d88b73aa5>\u001b[0m in \u001b[0;36mDAGPath_util\u001b[1;34m(self, current_node, visited, path)\u001b[0m\n\u001b[0;32m     14\u001b[0m             \u001b[1;32mfor\u001b[0m \u001b[0mnode\u001b[0m\u001b[1;33m,\u001b[0m \u001b[0mweight\u001b[0m \u001b[1;32min\u001b[0m \u001b[0mself\u001b[0m\u001b[1;33m.\u001b[0m\u001b[0mgraph\u001b[0m\u001b[1;33m[\u001b[0m\u001b[0mcurrent_node\u001b[0m\u001b[1;33m]\u001b[0m\u001b[1;33m:\u001b[0m\u001b[1;33m\u001b[0m\u001b[0m\n\u001b[0;32m     15\u001b[0m                 \u001b[1;32mif\u001b[0m \u001b[0mvisited\u001b[0m\u001b[1;33m[\u001b[0m\u001b[0mnode\u001b[0m\u001b[1;33m]\u001b[0m \u001b[1;33m==\u001b[0m \u001b[1;32mFalse\u001b[0m\u001b[1;33m:\u001b[0m\u001b[1;33m\u001b[0m\u001b[0m\n\u001b[1;32m---> 16\u001b[1;33m                     \u001b[0mself\u001b[0m\u001b[1;33m.\u001b[0m\u001b[0mDAGPath_util\u001b[0m\u001b[1;33m(\u001b[0m\u001b[0mnode\u001b[0m\u001b[1;33m,\u001b[0m\u001b[0mvisited\u001b[0m\u001b[1;33m,\u001b[0m\u001b[0mpath\u001b[0m\u001b[1;33m)\u001b[0m\u001b[1;33m\u001b[0m\u001b[0m\n\u001b[0m\u001b[0;32m     17\u001b[0m         \u001b[0mpath\u001b[0m\u001b[1;33m.\u001b[0m\u001b[0mappend\u001b[0m\u001b[1;33m(\u001b[0m\u001b[0mv\u001b[0m\u001b[1;33m)\u001b[0m\u001b[1;33m\u001b[0m\u001b[0m\n\u001b[0;32m     18\u001b[0m         \u001b[0mprint\u001b[0m\u001b[1;33m(\u001b[0m\u001b[0mpath\u001b[0m\u001b[1;33m)\u001b[0m\u001b[1;33m\u001b[0m\u001b[0m\n",
      "\u001b[1;32m<ipython-input-102-5a1d88b73aa5>\u001b[0m in \u001b[0;36mDAGPath_util\u001b[1;34m(self, current_node, visited, path)\u001b[0m\n\u001b[0;32m     14\u001b[0m             \u001b[1;32mfor\u001b[0m \u001b[0mnode\u001b[0m\u001b[1;33m,\u001b[0m \u001b[0mweight\u001b[0m \u001b[1;32min\u001b[0m \u001b[0mself\u001b[0m\u001b[1;33m.\u001b[0m\u001b[0mgraph\u001b[0m\u001b[1;33m[\u001b[0m\u001b[0mcurrent_node\u001b[0m\u001b[1;33m]\u001b[0m\u001b[1;33m:\u001b[0m\u001b[1;33m\u001b[0m\u001b[0m\n\u001b[0;32m     15\u001b[0m                 \u001b[1;32mif\u001b[0m \u001b[0mvisited\u001b[0m\u001b[1;33m[\u001b[0m\u001b[0mnode\u001b[0m\u001b[1;33m]\u001b[0m \u001b[1;33m==\u001b[0m \u001b[1;32mFalse\u001b[0m\u001b[1;33m:\u001b[0m\u001b[1;33m\u001b[0m\u001b[0m\n\u001b[1;32m---> 16\u001b[1;33m                     \u001b[0mself\u001b[0m\u001b[1;33m.\u001b[0m\u001b[0mDAGPath_util\u001b[0m\u001b[1;33m(\u001b[0m\u001b[0mnode\u001b[0m\u001b[1;33m,\u001b[0m\u001b[0mvisited\u001b[0m\u001b[1;33m,\u001b[0m\u001b[0mpath\u001b[0m\u001b[1;33m)\u001b[0m\u001b[1;33m\u001b[0m\u001b[0m\n\u001b[0m\u001b[0;32m     17\u001b[0m         \u001b[0mpath\u001b[0m\u001b[1;33m.\u001b[0m\u001b[0mappend\u001b[0m\u001b[1;33m(\u001b[0m\u001b[0mv\u001b[0m\u001b[1;33m)\u001b[0m\u001b[1;33m\u001b[0m\u001b[0m\n\u001b[0;32m     18\u001b[0m         \u001b[0mprint\u001b[0m\u001b[1;33m(\u001b[0m\u001b[0mpath\u001b[0m\u001b[1;33m)\u001b[0m\u001b[1;33m\u001b[0m\u001b[0m\n",
      "\u001b[1;32m<ipython-input-102-5a1d88b73aa5>\u001b[0m in \u001b[0;36mDAGPath_util\u001b[1;34m(self, current_node, visited, path)\u001b[0m\n\u001b[0;32m     13\u001b[0m         \u001b[1;32mif\u001b[0m \u001b[0mcurrent_node\u001b[0m \u001b[1;32min\u001b[0m \u001b[0mself\u001b[0m\u001b[1;33m.\u001b[0m\u001b[0mgraph\u001b[0m\u001b[1;33m.\u001b[0m\u001b[0mkeys\u001b[0m\u001b[1;33m(\u001b[0m\u001b[1;33m)\u001b[0m\u001b[1;33m:\u001b[0m\u001b[1;33m\u001b[0m\u001b[0m\n\u001b[0;32m     14\u001b[0m             \u001b[1;32mfor\u001b[0m \u001b[0mnode\u001b[0m\u001b[1;33m,\u001b[0m \u001b[0mweight\u001b[0m \u001b[1;32min\u001b[0m \u001b[0mself\u001b[0m\u001b[1;33m.\u001b[0m\u001b[0mgraph\u001b[0m\u001b[1;33m[\u001b[0m\u001b[0mcurrent_node\u001b[0m\u001b[1;33m]\u001b[0m\u001b[1;33m:\u001b[0m\u001b[1;33m\u001b[0m\u001b[0m\n\u001b[1;32m---> 15\u001b[1;33m                 \u001b[1;32mif\u001b[0m \u001b[0mvisited\u001b[0m\u001b[1;33m[\u001b[0m\u001b[0mnode\u001b[0m\u001b[1;33m]\u001b[0m \u001b[1;33m==\u001b[0m \u001b[1;32mFalse\u001b[0m\u001b[1;33m:\u001b[0m\u001b[1;33m\u001b[0m\u001b[0m\n\u001b[0m\u001b[0;32m     16\u001b[0m                     \u001b[0mself\u001b[0m\u001b[1;33m.\u001b[0m\u001b[0mDAGPath_util\u001b[0m\u001b[1;33m(\u001b[0m\u001b[0mnode\u001b[0m\u001b[1;33m,\u001b[0m\u001b[0mvisited\u001b[0m\u001b[1;33m,\u001b[0m\u001b[0mpath\u001b[0m\u001b[1;33m)\u001b[0m\u001b[1;33m\u001b[0m\u001b[0m\n\u001b[0;32m     17\u001b[0m         \u001b[0mpath\u001b[0m\u001b[1;33m.\u001b[0m\u001b[0mappend\u001b[0m\u001b[1;33m(\u001b[0m\u001b[0mv\u001b[0m\u001b[1;33m)\u001b[0m\u001b[1;33m\u001b[0m\u001b[0m\n",
      "\u001b[1;31mIndexError\u001b[0m: list index out of range"
     ]
    }
   ],
   "source": [
    "g = DAG(graph)\n",
    "g.DAGPath(10,32)"
   ]
  },
  {
   "cell_type": "code",
   "execution_count": null,
   "metadata": {},
   "outputs": [],
   "source": []
  }
 ],
 "metadata": {
  "kernelspec": {
   "display_name": "Python 3",
   "language": "python",
   "name": "python3"
  },
  "language_info": {
   "codemirror_mode": {
    "name": "ipython",
    "version": 3
   },
   "file_extension": ".py",
   "mimetype": "text/x-python",
   "name": "python",
   "nbconvert_exporter": "python",
   "pygments_lexer": "ipython3",
   "version": "3.6.6"
  }
 },
 "nbformat": 4,
 "nbformat_minor": 2
}
