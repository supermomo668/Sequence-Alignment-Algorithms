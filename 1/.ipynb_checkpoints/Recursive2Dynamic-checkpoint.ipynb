{
 "cells": [
  {
   "cell_type": "markdown",
   "metadata": {},
   "source": [
    "<b>Recursive Changes"
   ]
  },
  {
   "cell_type": "code",
   "execution_count": 40,
   "metadata": {},
   "outputs": [
    {
     "data": {
      "text/html": [
       "<img src=\"img/recursive-calls.png\",width = 400, height = 400>\n"
      ],
      "text/plain": [
       "<IPython.core.display.HTML object>"
      ]
     },
     "metadata": {},
     "output_type": "display_data"
    }
   ],
   "source": [
    "%%html\n",
    "<img src=\"img/recursive-calls.png\",width = 400, height = 400>"
   ]
  },
  {
   "cell_type": "code",
   "execution_count": 40,
   "metadata": {},
   "outputs": [],
   "source": [
    "import math as m\n",
    "def RecursiveChanges(money, coins):     #money: single value   #coins: array of denominator values available\n",
    "    if money == 0 :\n",
    "        return 0\n",
    "    minimum_number_coins = m.inf\n",
    "    count = 0;\n",
    "    for coin in coins:                 #for each coin in [coin1, coin2, coin3...]\n",
    "        if coin <= money:\n",
    "            Number_of_coins = RecursiveChanges(money-coin, coins)\n",
    "        if Number_of_coins < minimum_number_coins:\n",
    "            minimum_number_coins = Number_of_coins + 1\n",
    "    return minimum_number_coins"
   ]
  },
  {
   "cell_type": "code",
   "execution_count": 41,
   "metadata": {},
   "outputs": [
    {
     "data": {
      "text/plain": [
       "4"
      ]
     },
     "execution_count": 41,
     "metadata": {},
     "output_type": "execute_result"
    }
   ],
   "source": [
    "RecursiveChanges(17,[1,4,5])"
   ]
  },
  {
   "cell_type": "code",
   "execution_count": 42,
   "metadata": {},
   "outputs": [
    {
     "name": "stdout",
     "output_type": "stream",
     "text": [
      "3 3 3 4 4 4 4 4 5 5\n"
     ]
    }
   ],
   "source": [
    "## Generate an array for m = 1 - 12\n",
    "max_money = 22; minimum_coins = []; coins = [1,4,5]\n",
    "for money in range(13,max_money+1):\n",
    "    minimum_coins.append(RecursiveChanges(money,coins))\n",
    "print(' '.join(str(i) for i in minimum_coins))"
   ]
  },
  {
   "cell_type": "markdown",
   "metadata": {},
   "source": [
    "<b>Dynamic Programming "
   ]
  },
  {
   "cell_type": "code",
   "execution_count": 75,
   "metadata": {},
   "outputs": [],
   "source": [
    "import math as m\n",
    "def DP_Changes(money,coins):        #money: single value   #coins: array of denominator values available\n",
    "    minimum_coins = []\n",
    "    minimum_coins.insert(0,0)\n",
    "    for mon in range(money):\n",
    "        minimum_coins.append(m.inf)\n",
    "        for coin in coins:\n",
    "            if mon >= coin:           # don't bother if the coin value is larger than money (you cannot get integer)\n",
    "                last_minimum_coin = minimum_coins[mon-coin]    # recall previous minimum coin for (m-coin)\n",
    "                if last_minimum_coin + 1 < minimum_coins[mon]:\n",
    "                    minimum_coins[mon] = last_minimum_coin + 1\n",
    "    return minimum_coins[mon]"
   ]
  },
  {
   "cell_type": "code",
   "execution_count": 72,
   "metadata": {},
   "outputs": [
    {
     "name": "stdout",
     "output_type": "stream",
     "text": [
      "19281\n",
      "[6, 5, 3, 1]\n"
     ]
    }
   ],
   "source": [
    "file = open('CC1-change_problem.txt','r')\n",
    "data = file.read(); data\n",
    "money, coins, _ = data.split('\\n'); money = int(money); coins = [int(i) for i in coins.split(',')]\n",
    "print(money); print(coins)\n",
    "file.close()"
   ]
  },
  {
   "cell_type": "code",
   "execution_count": 73,
   "metadata": {},
   "outputs": [
    {
     "name": "stdout",
     "output_type": "stream",
     "text": [
      "3214\n"
     ]
    }
   ],
   "source": [
    "minimum_coin_array = DP_Changes(money, coins)\n",
    "print(minimum_coin_array)"
   ]
  },
  {
   "cell_type": "markdown",
   "metadata": {},
   "source": [
    "<b>Manhattan Tourist Problem"
   ]
  },
  {
   "cell_type": "code",
   "execution_count": 196,
   "metadata": {},
   "outputs": [],
   "source": [
    "import numpy as np\n",
    "def ManhattanTourist(row, col, down_matrix, right_matrix,diag_matrix): #If 4x4 grid | down matrix: 4x5 | right matrix: 5 x 4\n",
    "    node_matrix = np.zeros((row+1,col+1))    \n",
    "    for i in range(0,row):   # calculate first column #row: 4 #reiterate 4 times\n",
    "        node_matrix[i+1][0] = node_matrix[i][0] + down_matrix[i][0]    #down_matrix 4x5\n",
    "    for j in range(0, col):  # calculate first column #col: 4 #reiterate 4 times\n",
    "        node_matrix[0][j+1] = node_matrix[0][j] + right_matrix[0][j]   #right_matrix 5x4\n",
    "    \n",
    "    for i in range(1,row+1):   # Start calculating (1,1),(1,2)....(1,5)\n",
    "        for j in range(1,col+1):\n",
    "            node2node_down = node_matrix[i-1][j] + down_matrix[i-1][j]; \n",
    "            node2node_right = node_matrix[i][j-1] + right_matrix[i][j-1];\n",
    "            node_matrix[i][j] = max(node2node_down,node2node_right)      #get max node value\n",
    "            if diag_matrix != '':    ## diagonal option\n",
    "                node_matrix[i][j] = max(node_matrix[i][j],node_matrix[i-1][j-1]+ diag_matrix[i-1][j-1])\n",
    "            #print(node_matrix)\n",
    "    return node_matrix[-1][-1]"
   ]
  },
  {
   "cell_type": "code",
   "execution_count": 11,
   "metadata": {},
   "outputs": [
    {
     "name": "stdout",
     "output_type": "stream",
     "text": [
      "5\n",
      "14\n"
     ]
    }
   ],
   "source": [
    "file = open('CC2-Manhattan_tourist.txt','r')\n",
    "data = file.read(); data = data.split('\\n')\n",
    "row, col = data[0].split(' '); row = int(row); col = int(col); \n",
    "down_matrix_data = data[1:row+1]; down_matrix_data =  [i.split(' ') for i in down_matrix_data]\n",
    "right_matrix_data = data[row+2:-1]; right_matrix_data = [i.split(' ') for i in right_matrix_data]\n",
    "file.close()\n",
    "print(row); print(col);"
   ]
  },
  {
   "cell_type": "code",
   "execution_count": 198,
   "metadata": {},
   "outputs": [
    {
     "name": "stdout",
     "output_type": "stream",
     "text": [
      "[[4 1 4 3 1 4 0 1 2 4 3 0 0 3 3]\n",
      " [3 4 4 4 0 1 2 1 0 2 1 1 1 0 1]\n",
      " [3 1 2 1 1 4 3 1 0 0 3 1 4 3 1]\n",
      " [4 3 1 2 2 3 1 1 4 3 0 3 2 1 3]\n",
      " [0 0 2 4 1 4 4 0 4 2 2 0 1 0 1]]\n"
     ]
    }
   ],
   "source": [
    "down_matrix = np.array([[int(item) for item  in row] for row in down_matrix_data])\n",
    "right_matrix = np.array([[int(item) for item in row] for row in right_matrix_data])\n",
    "print(down_matrix); "
   ]
  },
  {
   "cell_type": "code",
   "execution_count": 199,
   "metadata": {},
   "outputs": [
    {
     "data": {
      "text/plain": [
       "52.0"
      ]
     },
     "execution_count": 199,
     "metadata": {},
     "output_type": "execute_result"
    }
   ],
   "source": [
    "ManhattanTourist(row,col, down_matrix, right_matrix,_)"
   ]
  },
  {
   "cell_type": "markdown",
   "metadata": {},
   "source": [
    "<b>Matrix Backtracking"
   ]
  },
  {
   "cell_type": "code",
   "execution_count": 726,
   "metadata": {},
   "outputs": [],
   "source": [
    "# Denote \"down\", \"right\",\"diagonal\" (match) = -1, 0, 1     Dummy Variables\n",
    "def LCS_Backtrack(string1, string2): #If 4x4 grid       string1: vertical    string2: horizontal\n",
    "    k1 = len(string1); k2 = len(string2);\n",
    "    node_matrix = np.zeros((k1+1 ,k2+1))    # assigned a 2D zero matrix for node value 5x5  \n",
    "    backtrack_matrix = np.zeros((k1,k2))      # backtrack pointers\n",
    "    for i in range(1,k1+1):   # Start calculating (1,1),(1,2)....(1,5)\n",
    "        for j in range(1,k2+1):\n",
    "#Form Node Matrix with Max Value\n",
    "            if string1[i-1] == string2[j-1]:\n",
    "                match = 1\n",
    "            else:\n",
    "                match = 0\n",
    "            node_matrix[i][j] = max(node_matrix[i-1][j],node_matrix[i][j-1], node_matrix[i-1][j-1] + match)\n",
    "# Get pointer from value comparison\n",
    "            if node_matrix[i][j] == node_matrix[i-1][j]:      #Go DOWN\n",
    "                backtrack_matrix[i-1][j-1] = -1\n",
    "            elif node_matrix[i][j] == node_matrix[i][j-1]:    #Go LEFT\n",
    "                backtrack_matrix[i-1][j-1] = 0            \n",
    "            elif node_matrix[i][j] == node_matrix[i-1][j-1] + 1  :  #Go Diagonal\n",
    "                backtrack_matrix[i-1][j-1] = 1\n",
    "    print('node matrix\\n' + str(node_matrix))\n",
    "    return backtrack_matrix"
   ]
  },
  {
   "cell_type": "code",
   "execution_count": 727,
   "metadata": {},
   "outputs": [
    {
     "name": "stdout",
     "output_type": "stream",
     "text": [
      "node matrix\n",
      "[[0. 0. 0. 0. 0. 0. 0. 0. 0. 0.]\n",
      " [0. 1. 1. 1. 1. 1. 1. 1. 1. 1.]\n",
      " [0. 1. 1. 2. 2. 2. 2. 2. 2. 2.]\n",
      " [0. 1. 2. 2. 3. 3. 3. 3. 3. 3.]\n",
      " [0. 1. 2. 2. 3. 3. 3. 3. 3. 3.]\n",
      " [0. 1. 2. 2. 3. 4. 4. 4. 4. 4.]\n",
      " [0. 1. 2. 2. 3. 4. 4. 5. 5. 5.]\n",
      " [0. 1. 2. 2. 3. 4. 5. 5. 6. 6.]\n",
      " [0. 1. 2. 2. 3. 4. 5. 5. 6. 6.]]\n"
     ]
    },
    {
     "data": {
      "text/plain": [
       "array([[ 1.,  0.,  0.,  0.,  0.,  0.,  0.,  0.,  0.],\n",
       "       [-1., -1.,  1.,  0.,  0.,  0.,  0.,  0.,  0.],\n",
       "       [-1.,  1., -1.,  1.,  0.,  0.,  0.,  0.,  0.],\n",
       "       [-1., -1., -1., -1., -1., -1., -1., -1., -1.],\n",
       "       [-1., -1., -1., -1.,  1.,  0.,  0.,  0.,  0.],\n",
       "       [-1., -1., -1., -1., -1., -1.,  1.,  0.,  0.],\n",
       "       [-1., -1., -1., -1., -1.,  1., -1.,  1.,  0.],\n",
       "       [-1., -1., -1., -1., -1., -1., -1., -1., -1.]])"
      ]
     },
     "execution_count": 727,
     "metadata": {},
     "output_type": "execute_result"
    }
   ],
   "source": [
    "backtrack_matrix = LCS_Backtrack('AACCTTGG','ACACTGTGA'); \n",
    "backtrack_matrix"
   ]
  },
  {
   "cell_type": "code",
   "execution_count": 747,
   "metadata": {},
   "outputs": [],
   "source": [
    "## Uses While Loop\n",
    "def LCS_1(v,w):\n",
    "    backtrack_matrix = LCS_Backtrack(v,w); print('Backtrack Matrix: \\n'+str(backtrack_matrix))\n",
    "    i = len(v)-1; j = len(w)-1; string1 = ''; string2 = ''; LCS_array = []\n",
    "    while i >= 0 or j >= 0:\n",
    "        '''\n",
    "        print('(i,j)= ('+ str(i)+ ', ' + str(j)+')' )\n",
    "        print('Pointer: ' + str(backtrack_matrix[i][j]))\n",
    "        ''' \n",
    "        if backtrack_matrix[i][j] == -1:  ## Down Pointer, go Up\n",
    "            i = i - 1\n",
    "            #string2 = '-' + string2; string1 = v[i+1] + string1\n",
    "        elif backtrack_matrix[i][j] == 0 :    ## Right pointer, go LEFT\n",
    "            j = j - 1\n",
    "            #string1 = '-' + string1; string2 = w[j+1] + string2\n",
    "        elif backtrack_matrix[i][j] == 1:    ## Down pointer, go UP\n",
    "            #string1 = v[i+1] + string1; string2 = w[i+1] + string2\n",
    "            LCS_array.insert(0,v[i])\n",
    "            i = i - 1; j = j - 1;\n",
    "    return ''.join(LCS_array)    #string1, string2\n",
    "\n",
    "## Recursive form\n",
    "def LCS_2(backtrack_matrix, v, i, j):     # i = len(i); j = len(j)\n",
    "    if i==0 or j==0:\n",
    "        return\n",
    "    backtrack_matrix = LCS_Backtrack(v,w); #print(backtrack_matrix)\n",
    "    if backtrack_matrix[i][j] == -1:    # Down pointer, go up\n",
    "        LCS_2(backtrack_matrix, v, i-1, j)\n",
    "    elif backtrack_matrix[i][j] == 0:    # Right pointer, go left\n",
    "        LCS_2(backtrack_matrix, v, i, j-1)\n",
    "    else :    #backtrack_matrix[i][j] == 1\n",
    "        LCS_2(backtrack_matrix, v, i-1, j-1)\n",
    "        print(v[i])"
   ]
  },
  {
   "cell_type": "code",
   "execution_count": 748,
   "metadata": {},
   "outputs": [
    {
     "name": "stdout",
     "output_type": "stream",
     "text": [
      "node matrix\n",
      "[[0. 0. 0. 0. 0. 0. 0. 0. 0. 0.]\n",
      " [0. 1. 1. 1. 1. 1. 1. 1. 1. 1.]\n",
      " [0. 1. 1. 2. 2. 2. 2. 2. 2. 2.]\n",
      " [0. 1. 2. 2. 3. 3. 3. 3. 3. 3.]\n",
      " [0. 1. 2. 2. 3. 3. 3. 3. 3. 3.]\n",
      " [0. 1. 2. 2. 3. 4. 4. 4. 4. 4.]\n",
      " [0. 1. 2. 2. 3. 4. 4. 5. 5. 5.]\n",
      " [0. 1. 2. 2. 3. 4. 5. 5. 6. 6.]\n",
      " [0. 1. 2. 2. 3. 4. 5. 5. 6. 6.]]\n",
      "Backtrack Matrix: \n",
      "[[ 1.  0.  0.  0.  0.  0.  0.  0.  0.]\n",
      " [-1. -1.  1.  0.  0.  0.  0.  0.  0.]\n",
      " [-1.  1. -1.  1.  0.  0.  0.  0.  0.]\n",
      " [-1. -1. -1. -1. -1. -1. -1. -1. -1.]\n",
      " [-1. -1. -1. -1.  1.  0.  0.  0.  0.]\n",
      " [-1. -1. -1. -1. -1. -1.  1.  0.  0.]\n",
      " [-1. -1. -1. -1. -1.  1. -1.  1.  0.]\n",
      " [-1. -1. -1. -1. -1. -1. -1. -1. -1.]]\n"
     ]
    },
    {
     "data": {
      "text/plain": [
       "'AACTTG'"
      ]
     },
     "execution_count": 748,
     "metadata": {},
     "output_type": "execute_result"
    }
   ],
   "source": [
    "v = 'AACCTTGG'; w = 'ACACTGTGA'\n",
    "LCS_1(v,w)"
   ]
  },
  {
   "cell_type": "code",
   "execution_count": 752,
   "metadata": {},
   "outputs": [],
   "source": [
    "file = open('CC3-longest_common_subsequence.txt','r')\n",
    "data = file.read(); data = data.split('\\n'); file.close()\n",
    "v,w,_ = data; #print(v); print(w)"
   ]
  },
  {
   "cell_type": "code",
   "execution_count": 751,
   "metadata": {},
   "outputs": [
    {
     "name": "stdout",
     "output_type": "stream",
     "text": [
      "node matrix\n",
      "[[  0.   0.   0. ...   0.   0.   0.]\n",
      " [  0.   1.   1. ...   1.   1.   1.]\n",
      " [  0.   1.   1. ...   2.   2.   2.]\n",
      " ...\n",
      " [  0.   1.   2. ... 569. 570. 571.]\n",
      " [  0.   1.   2. ... 569. 570. 571.]\n",
      " [  0.   1.   2. ... 569. 570. 571.]]\n",
      "Backtrack Matrix: \n",
      "[[ 1.  0.  0. ...  0.  0.  0.]\n",
      " [-1. -1. -1. ...  0.  0.  0.]\n",
      " [-1. -1. -1. ...  0.  0.  0.]\n",
      " ...\n",
      " [-1. -1. -1. ... -1. -1. -1.]\n",
      " [-1. -1. -1. ... -1. -1. -1.]\n",
      " [-1. -1. -1. ... -1. -1. -1.]]\n",
      "TCCTTCCTCTAGGCATGGGCTGCCGCTCCCGACTCCGGGGTGTAGGATAACATGTACTGTGTCCAAGCACGGCACTTCTGAGCCAGCTCTGTGCTTCGCCCATCAGAAATGCTCAGGCCAGTCCAGTCTCCGGAGAAATGCGACGTGGGGCACTGCCCGAGGACCAGAGCTGCTGCCCCCCGTGGGTAGGTAGATACCCGTTATTCGTTCGGTCAGCACATTTAAGACGTGAGAAACCCAGAGCGAGGAGTGATACATTGCCCGCAAAATTTACAAAAGCTTCCCCCCAACTGCACGGAGCGTGACCCGACCAGTACAGTAGAAGGAAGTTAAGAGCGTGAGCTTCGCAGGTTAGCTTTGCAGCCGCGCAAAATTGATGGGCAGGTTGTACATCGACGCGGGTATAGATTTTCTCCGCTGGTGGCCATTTCGGTTTACGCCCTCGCATTACGACTAAATAGCTAAGCCGCTGTGAGGGTTTTTTCCAATAAGTTACTTAAGAATTTCGGGCTTGTATGCCGAATCTTGGCGCCGCGATTGCATTCAGGGTCTTTCTTCTGACGATGGTGTC\n",
      "571\n"
     ]
    }
   ],
   "source": [
    "LCS = LCS_1(v,w)\n",
    "path_length = len(LCS); print(LCS); print(path_length)"
   ]
  },
  {
   "cell_type": "markdown",
   "metadata": {},
   "source": [
    "<b> Longest Path In DAG"
   ]
  },
  {
   "cell_type": "code",
   "execution_count": 20,
   "metadata": {},
   "outputs": [
    {
     "name": "stdout",
     "output_type": "stream",
     "text": [
      "['0->1:25', '27->31:9', '4->9:12', '18->19:25', '19->20:11', '7->22:16', '6->31:26', '13->16:11', '8->20:25', '20->25:39', '6->16:28', '6->12:36', '6->8:21', '4->21:15', '5->16:14', '3->28:13', '8->17:10', '5->20:25', '4->20:23', '28->30:36', '7->29:29', '0->4:17', '13->19:6', '3->27:33', '4->27:0', '5->15:4', '1->4:24', '1->6:5', '10->23:2', '12->14:22', '16->30:9', '3->30:37', '10->16:9', '10->12:17', '1->23:22', '18->22:26', '4->19:5', '7->27:14', '4->23:33', '16->24:36', '15->27:5', '20->23:30', '11->13:1', '8->24:29', '10->21:10', '16->29:37', '11->16:27', '5->31:1', '7->8:17', '15->18:0', '10->22:21', '17->24:3', '16->23:38', '5->22:33', '6->11:26', '26->31:10', '21->27:37', '18->20:24', '0->9:10', '21->25:16', '1->20:4', '30->31:34', '2->15:6', '4->12:36', '22->29:31', '22->31:23', '7->21:15', '3->18:16', '3->14:9', '23->30:21', '24->28:13', '11->31:13']\n",
      "7\n",
      "29\n"
     ]
    }
   ],
   "source": [
    "import numpy as np, math as m\n",
    "file = open('CC4-longest_path_in_DAG.txt','r')\n",
    "data = file.read(); data = data.split('\\n'); \n",
    "start, end, node_weights = data[0], data[1], data[2:-1]; file.close(); start = int(start); end = int(end)\n",
    "print(node_weights); print(start); print(end)\n",
    "## Turn data into start points, end point, weights\n",
    "node_weights = [node_weight.split(':') for node_weight in node_weights]; \n",
    "nodes_ = [x.split('->') for x,y in node_weights]; weight_array = [int(y) for x,y in node_weights]; \n",
    "start_array = [int(start) for start,end in nodes_]; end_array = [int(end) for start,end in nodes_];"
   ]
  },
  {
   "cell_type": "code",
   "execution_count": 21,
   "metadata": {},
   "outputs": [],
   "source": [
    "from collections import defaultdict\n",
    "from itertools import chain\n",
    "def Node2Dict(start_array, end_array, weight_array):     # turn information into dictionary with all information \n",
    "    graph = defaultdict(list)\n",
    "    for start, end, weight in zip(start_array,end_array, weight_array):\n",
    "        graph[start].append((end,weight))\n",
    "    return graph"
   ]
  },
  {
   "cell_type": "code",
   "execution_count": 22,
   "metadata": {},
   "outputs": [
    {
     "name": "stdout",
     "output_type": "stream",
     "text": [
      "dict_keys([0, 27, 4, 18, 19, 7, 6, 13, 8, 20, 5, 3, 28, 1, 10, 12, 16, 15, 11, 17, 26, 21, 30, 2, 22, 23, 24])\n",
      "dict_values([[(1, 25), (4, 17), (9, 10)], [(31, 9)], [(9, 12), (21, 15), (20, 23), (27, 0), (19, 5), (23, 33), (12, 36)], [(19, 25), (22, 26), (20, 24)], [(20, 11)], [(22, 16), (29, 29), (27, 14), (8, 17), (21, 15)], [(31, 26), (16, 28), (12, 36), (8, 21), (11, 26)], [(16, 11), (19, 6)], [(20, 25), (17, 10), (24, 29)], [(25, 39), (23, 30)], [(16, 14), (20, 25), (15, 4), (31, 1), (22, 33)], [(28, 13), (27, 33), (30, 37), (18, 16), (14, 9)], [(30, 36)], [(4, 24), (6, 5), (23, 22), (20, 4)], [(23, 2), (16, 9), (12, 17), (21, 10), (22, 21)], [(14, 22)], [(30, 9), (24, 36), (29, 37), (23, 38)], [(27, 5), (18, 0)], [(13, 1), (16, 27), (31, 13)], [(24, 3)], [(31, 10)], [(27, 37), (25, 16)], [(31, 34)], [(15, 6)], [(29, 31), (31, 23)], [(30, 21)], [(28, 13)]])\n"
     ]
    }
   ],
   "source": [
    "graph = Node2Dict(start_array, end_array, weight_array)\n",
    "print(graph.keys()); print(graph.values())"
   ]
  },
  {
   "cell_type": "markdown",
   "metadata": {},
   "source": [
    "<b>Set maximum weights to each vertice, record the maximum & that the vertice"
   ]
  },
  {
   "cell_type": "code",
   "execution_count": 24,
   "metadata": {},
   "outputs": [],
   "source": [
    "# Recursively \n",
    "# Find node Maximum\n",
    "class DAG:\n",
    "    def __init__(self,graph):\n",
    "        self.graph = graph\n",
    "        self.startnodes = graph.keys()          # List of nodes\n",
    "        self.allnodes =  set(list(chain.from_iterable([[x for (x,w) in item] for item in graph.values()]))).union(self.startnodes)\n",
    "        self.NumVertices = len(self.allnodes)\n",
    "        print('All Nodes: '+ str(self.NumVertices) + ': '+ str(self.allnodes))\n",
    "        print('Start nodes: '+ str(len(self.startnodes)) + ': '+ str(list(self.startnodes)))\n",
    "# Recursive backtracking     \n",
    "    def DAGPath_sortutil(self, current_node, visited, path):\n",
    "        visited[current_node] = True\n",
    "        if current_node in self.startnodes: \n",
    "            for next_node, weight in self.graph[current_node]: \n",
    "                if next_node in self.startnodes:\n",
    "                    if not visited[next_node]:                     ### If visited[node] == False\n",
    "                        self.DAGPath_sortutil(next_node,visited,path)\n",
    "                else:\n",
    "                    path.append(current_node)\n",
    "        path.append(current_node)          \n",
    "# Find longest path\n",
    "    def DAGPath(self, start, end):\n",
    "        visited = dict.fromkeys(self.startnodes, False)        # Boolean for nodes : visited/ not visited\n",
    "        path = [] \n",
    "        ### Fault-proof\n",
    "        if start not in self.graph.keys():\n",
    "            print('Weird...No start node!')\n",
    "            return None\n",
    "        if start==end:\n",
    "            return 0, start\n",
    "        ### \n",
    "        for i in self.startnodes: \n",
    "            if visited[i] == False: \n",
    "                self.DAGPath_sortutil(start, visited, path)\n",
    "        #print(path)\n",
    "        dist = dict.fromkeys(self.allnodes, 0);\n",
    "        while path:  \n",
    "            i = path.pop(); \n",
    "            for next_node,weight in self.graph[i]: \n",
    "                if  dist[i] + weight >  dist[next_node]: \n",
    "                    dist[next_node] = dist[i] + weight\n",
    "                    #print('new weights: ' + str(dist))\n",
    "        for i in self.allnodes: \n",
    "            print('node: ' + str(i),'weight: '+ str(dist[i])) if dist[i] != 0 else 0\n",
    "        return dist[end],\n",
    "    \n",
    "    def pathPrinter(path_list):\n",
    "        text = ''\n",
    "        for i in path_list[:-1]:\n",
    "            text += str(i) + '->'\n",
    "        return text+path_list[-1]"
   ]
  },
  {
   "cell_type": "code",
   "execution_count": 26,
   "metadata": {},
   "outputs": [
    {
     "name": "stdout",
     "output_type": "stream",
     "text": [
      "All Nodes: 32: {0, 1, 2, 3, 4, 5, 6, 7, 8, 9, 10, 11, 12, 13, 14, 15, 16, 17, 18, 19, 20, 21, 22, 23, 24, 25, 26, 27, 28, 29, 30, 31}\n",
      "Start nodes: 27: [0, 27, 4, 18, 19, 7, 6, 13, 8, 20, 5, 3, 28, 1, 10, 12, 16, 15, 11, 17, 26, 21, 30, 2, 22, 23, 24]\n",
      "7\n",
      "29\n",
      "node: 8 weight: 17\n",
      "node: 17 weight: 27\n",
      "node: 20 weight: 42\n",
      "node: 21 weight: 15\n",
      "node: 22 weight: 16\n",
      "node: 23 weight: 72\n",
      "node: 24 weight: 46\n",
      "node: 25 weight: 81\n",
      "node: 27 weight: 52\n",
      "node: 28 weight: 59\n",
      "node: 29 weight: 47\n",
      "node: 30 weight: 95\n",
      "node: 31 weight: 129\n"
     ]
    },
    {
     "data": {
      "text/plain": [
       "(47,)"
      ]
     },
     "execution_count": 26,
     "metadata": {},
     "output_type": "execute_result"
    }
   ],
   "source": [
    "g = DAG(graph); print(start); print(end)\n",
    "g.DAGPath(start,end)"
   ]
  },
  {
   "cell_type": "code",
   "execution_count": 27,
   "metadata": {},
   "outputs": [],
   "source": [
    "# Recursively \n",
    "# Find node Maximum\n",
    "class DAG:\n",
    "    def __init__(self,graph):\n",
    "        self.graph = graph\n",
    "        self.startnodes = graph.keys()          # List of nodes\n",
    "        self.allnodes =  set(list(chain.from_iterable([[x for (x,w) in item] for item in graph.values()]))).union(self.startnodes)\n",
    "        self.NumVertices = len(self.allnodes)\n",
    "        print('All Nodes: '+ str(self.NumVertices) + ' nodes : '+ str(self.allnodes))\n",
    "        print('Start nodes: '+ str(len(self.startnodes)) + ' nodes: '+ str(list(self.startnodes)))\n",
    "\n",
    "    def DAGLongestPath(self, start, end, path =[]):\n",
    "        path = path + [start]\n",
    "        if start == end:\n",
    "            return [path]\n",
    "        if start not in self.startnodes:\n",
    "            return []\n",
    "        optimal_path = []; all_paths = []; path_weight = 0;\n",
    "        for (node,weight) in self.graph[start]:\n",
    "            if node not in path:\n",
    "                newpaths = self.find_all_paths(node, end, path)\n",
    "                for newpath in newpaths:\n",
    "                    all_paths.append(newpath)\n",
    "                    old_weight = self.PathSum(optimal_path)\n",
    "                    new_weight = self.PathSum(newpath)\n",
    "                    if new_weight > path_weight:\n",
    "                        optimal_path.append(newpath)\n",
    "                        path_weight = new_weight\n",
    "                        print('new weight: ',path_weight)\n",
    "        return path_weight, optimal_path[-1], all_paths\n",
    "    \n",
    "    def find_all_paths(self, start, end, path =[]):\n",
    "        path = path + [start]\n",
    "        if start == end:\n",
    "            return [path]\n",
    "        if start not in self.startnodes:\n",
    "            return []\n",
    "        paths = []\n",
    "        for (node,weight) in self.graph[start]:\n",
    "            if node not in path:\n",
    "                newpaths = self.find_all_paths(node, end, path)\n",
    "                for newpath in newpaths:\n",
    "                    paths.append(newpath)\n",
    "        return paths\n",
    "    \n",
    "    def PathSum(self,path_list):\n",
    "        weight = 0; #print('path_list :',path_list)\n",
    "        if path_list == []:\n",
    "            return 0\n",
    "        elif isinstance(path_list,int):\n",
    "            return path_list\n",
    "        for i in range(len(path_list[:-1])):\n",
    "            thisweight = [path_weight for (next_node, path_weight) in self.graph[path_list[i]] if next_node == path_list[i+1]][0]\n",
    "            weight += thisweight\n",
    "        return weight\n",
    "    def PathPrinter(self, pathlist):\n",
    "        text = ''\n",
    "        return ''.join([text+pathlist[i]+'->' for i in range(len(pathlist)-1)])"
   ]
  },
  {
   "cell_type": "code",
   "execution_count": 28,
   "metadata": {},
   "outputs": [
    {
     "name": "stdout",
     "output_type": "stream",
     "text": [
      "All Nodes: 32 nodes : {0, 1, 2, 3, 4, 5, 6, 7, 8, 9, 10, 11, 12, 13, 14, 15, 16, 17, 18, 19, 20, 21, 22, 23, 24, 25, 26, 27, 28, 29, 30, 31}\n",
      "Start nodes: 27 nodes: [0, 27, 4, 18, 19, 7, 6, 13, 8, 20, 5, 3, 28, 1, 10, 12, 16, 15, 11, 17, 26, 21, 30, 2, 22, 23, 24]\n",
      "new weight:  47\n"
     ]
    },
    {
     "data": {
      "text/plain": [
       "(47, [7, 22, 29], [[7, 22, 29], [7, 29]])"
      ]
     },
     "execution_count": 28,
     "metadata": {},
     "output_type": "execute_result"
    }
   ],
   "source": [
    "a = DAG(graph); \n",
    "a.DAGLongestPath(start,end,[])"
   ]
  },
  {
   "cell_type": "code",
   "execution_count": null,
   "metadata": {},
   "outputs": [],
   "source": []
  }
 ],
 "metadata": {
  "kernelspec": {
   "display_name": "Python 3",
   "language": "python",
   "name": "python3"
  },
  "language_info": {
   "codemirror_mode": {
    "name": "ipython",
    "version": 3
   },
   "file_extension": ".py",
   "mimetype": "text/x-python",
   "name": "python",
   "nbconvert_exporter": "python",
   "pygments_lexer": "ipython3",
   "version": "3.6.6"
  }
 },
 "nbformat": 4,
 "nbformat_minor": 2
}
