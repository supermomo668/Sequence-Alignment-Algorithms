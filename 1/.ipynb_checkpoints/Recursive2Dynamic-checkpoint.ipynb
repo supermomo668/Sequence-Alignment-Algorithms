{
 "cells": [
  {
   "cell_type": "markdown",
   "metadata": {},
   "source": [
    "<b>Recursive Changes"
   ]
  },
  {
   "cell_type": "code",
   "execution_count": 40,
   "metadata": {},
   "outputs": [
    {
     "data": {
      "text/html": [
       "<img src=\"img/recursive-calls.png\",width = 400, height = 400>\n"
      ],
      "text/plain": [
       "<IPython.core.display.HTML object>"
      ]
     },
     "metadata": {},
     "output_type": "display_data"
    }
   ],
   "source": [
    "%%html\n",
    "<img src=\"img/recursive-calls.png\",width = 400, height = 400>"
   ]
  },
  {
   "cell_type": "code",
   "execution_count": 40,
   "metadata": {},
   "outputs": [],
   "source": [
    "import math as m\n",
    "def RecursiveChanges(money, coins):     #money: single value   #coins: array of denominator values available\n",
    "    if money == 0 :\n",
    "        return 0\n",
    "    minimum_number_coins = m.inf\n",
    "    count = 0;\n",
    "    for coin in coins:                 #for each coin in [coin1, coin2, coin3...]\n",
    "        if coin <= money:\n",
    "            Number_of_coins = RecursiveChanges(money-coin, coins)\n",
    "        if Number_of_coins < minimum_number_coins:\n",
    "            minimum_number_coins = Number_of_coins + 1\n",
    "    return minimum_number_coins"
   ]
  },
  {
   "cell_type": "code",
   "execution_count": 41,
   "metadata": {},
   "outputs": [
    {
     "data": {
      "text/plain": [
       "4"
      ]
     },
     "execution_count": 41,
     "metadata": {},
     "output_type": "execute_result"
    }
   ],
   "source": [
    "RecursiveChanges(17,[1,4,5])"
   ]
  },
  {
   "cell_type": "code",
   "execution_count": 42,
   "metadata": {},
   "outputs": [
    {
     "name": "stdout",
     "output_type": "stream",
     "text": [
      "3 3 3 4 4 4 4 4 5 5\n"
     ]
    }
   ],
   "source": [
    "## Generate an array for m = 1 - 12\n",
    "max_money = 22; minimum_coins = []; coins = [1,4,5]\n",
    "for money in range(13,max_money+1):\n",
    "    minimum_coins.append(RecursiveChanges(money,coins))\n",
    "print(' '.join(str(i) for i in minimum_coins))"
   ]
  },
  {
   "cell_type": "markdown",
   "metadata": {},
   "source": [
    "<b>Dynamic Programming "
   ]
  },
  {
   "cell_type": "code",
   "execution_count": 75,
   "metadata": {},
   "outputs": [],
   "source": [
    "import math as m\n",
    "def DP_Changes(money,coins):        #money: single value   #coins: array of denominator values available\n",
    "    minimum_coins = []\n",
    "    minimum_coins.insert(0,0)\n",
    "    for mon in range(money):\n",
    "        minimum_coins.append(m.inf)\n",
    "        for coin in coins:\n",
    "            if mon >= coin:           # don't bother if the coin value is larger than money (you cannot get integer)\n",
    "                last_minimum_coin = minimum_coins[mon-coin]    # recall previous minimum coin for (m-coin)\n",
    "                if last_minimum_coin + 1 < minimum_coins[mon]:\n",
    "                    minimum_coins[mon] = last_minimum_coin + 1\n",
    "    return minimum_coins[mon]"
   ]
  },
  {
   "cell_type": "code",
   "execution_count": 72,
   "metadata": {},
   "outputs": [
    {
     "name": "stdout",
     "output_type": "stream",
     "text": [
      "19281\n",
      "[6, 5, 3, 1]\n"
     ]
    }
   ],
   "source": [
    "file = open('CC1-change_problem.txt','r')\n",
    "data = file.read(); data\n",
    "money, coins, _ = data.split('\\n'); money = int(money); coins = [int(i) for i in coins.split(',')]\n",
    "print(money); print(coins)\n",
    "file.close()"
   ]
  },
  {
   "cell_type": "code",
   "execution_count": 73,
   "metadata": {},
   "outputs": [
    {
     "name": "stdout",
     "output_type": "stream",
     "text": [
      "3214\n"
     ]
    }
   ],
   "source": [
    "minimum_coin_array = DP_Changes(money, coins)\n",
    "print(minimum_coin_array)"
   ]
  },
  {
   "cell_type": "markdown",
   "metadata": {},
   "source": [
    "<b>Manhattan Tourist Problem"
   ]
  },
  {
   "cell_type": "code",
   "execution_count": 196,
   "metadata": {},
   "outputs": [],
   "source": [
    "import numpy as np\n",
    "def ManhattanTourist(row, col, down_matrix, right_matrix,diag_matrix): #If 4x4 grid | down matrix: 4x5 | right matrix: 5 x 4\n",
    "    node_matrix = np.zeros((row+1,col+1))    \n",
    "    for i in range(0,row):   # calculate first column #row: 4 #reiterate 4 times\n",
    "        node_matrix[i+1][0] = node_matrix[i][0] + down_matrix[i][0]    #down_matrix 4x5\n",
    "    for j in range(0, col):  # calculate first column #col: 4 #reiterate 4 times\n",
    "        node_matrix[0][j+1] = node_matrix[0][j] + right_matrix[0][j]   #right_matrix 5x4\n",
    "    \n",
    "    for i in range(1,row+1):   # Start calculating (1,1),(1,2)....(1,5)\n",
    "        for j in range(1,col+1):\n",
    "            node2node_down = node_matrix[i-1][j] + down_matrix[i-1][j]; \n",
    "            node2node_right = node_matrix[i][j-1] + right_matrix[i][j-1];\n",
    "            node_matrix[i][j] = max(node2node_down,node2node_right)      #get max node value\n",
    "            if diag_matrix != '':    ## diagonal option\n",
    "                node_matrix[i][j] = max(node_matrix[i][j],node_matrix[i-1][j-1]+ diag_matrix[i-1][j-1])\n",
    "            #print(node_matrix)\n",
    "    return node_matrix[-1][-1]"
   ]
  },
  {
   "cell_type": "code",
   "execution_count": 11,
   "metadata": {},
   "outputs": [
    {
     "name": "stdout",
     "output_type": "stream",
     "text": [
      "5\n",
      "14\n"
     ]
    }
   ],
   "source": [
    "file = open('CC2-Manhattan_tourist.txt','r')\n",
    "data = file.read(); data = data.split('\\n')\n",
    "row, col = data[0].split(' '); row = int(row); col = int(col); \n",
    "down_matrix_data = data[1:row+1]; down_matrix_data =  [i.split(' ') for i in down_matrix_data]\n",
    "right_matrix_data = data[row+2:-1]; right_matrix_data = [i.split(' ') for i in right_matrix_data]\n",
    "file.close()\n",
    "print(row); print(col);"
   ]
  },
  {
   "cell_type": "code",
   "execution_count": 198,
   "metadata": {},
   "outputs": [
    {
     "name": "stdout",
     "output_type": "stream",
     "text": [
      "[[4 1 4 3 1 4 0 1 2 4 3 0 0 3 3]\n",
      " [3 4 4 4 0 1 2 1 0 2 1 1 1 0 1]\n",
      " [3 1 2 1 1 4 3 1 0 0 3 1 4 3 1]\n",
      " [4 3 1 2 2 3 1 1 4 3 0 3 2 1 3]\n",
      " [0 0 2 4 1 4 4 0 4 2 2 0 1 0 1]]\n"
     ]
    }
   ],
   "source": [
    "down_matrix = np.array([[int(item) for item  in row] for row in down_matrix_data])\n",
    "right_matrix = np.array([[int(item) for item in row] for row in right_matrix_data])\n",
    "print(down_matrix); "
   ]
  },
  {
   "cell_type": "code",
   "execution_count": 199,
   "metadata": {},
   "outputs": [
    {
     "data": {
      "text/plain": [
       "52.0"
      ]
     },
     "execution_count": 199,
     "metadata": {},
     "output_type": "execute_result"
    }
   ],
   "source": [
    "ManhattanTourist(row,col, down_matrix, right_matrix,_)"
   ]
  },
  {
   "cell_type": "markdown",
   "metadata": {},
   "source": [
    "<b>Matrix Backtracking"
   ]
  },
  {
   "cell_type": "code",
   "execution_count": 726,
   "metadata": {},
   "outputs": [],
   "source": [
    "# Denote \"down\", \"right\",\"diagonal\" (match) = -1, 0, 1     Dummy Variables\n",
    "def LCS_Backtrack(string1, string2): #If 4x4 grid       string1: vertical    string2: horizontal\n",
    "    k1 = len(string1); k2 = len(string2);\n",
    "    node_matrix = np.zeros((k1+1 ,k2+1))    # assigned a 2D zero matrix for node value 5x5  \n",
    "    backtrack_matrix = np.zeros((k1,k2))      # backtrack pointers\n",
    "    for i in range(1,k1+1):   # Start calculating (1,1),(1,2)....(1,5)\n",
    "        for j in range(1,k2+1):\n",
    "#Form Node Matrix with Max Value\n",
    "            if string1[i-1] == string2[j-1]:\n",
    "                match = 1\n",
    "            else:\n",
    "                match = 0\n",
    "            node_matrix[i][j] = max(node_matrix[i-1][j],node_matrix[i][j-1], node_matrix[i-1][j-1] + match)\n",
    "# Get pointer from value comparison\n",
    "            if node_matrix[i][j] == node_matrix[i-1][j]:      #Go DOWN\n",
    "                backtrack_matrix[i-1][j-1] = -1\n",
    "            elif node_matrix[i][j] == node_matrix[i][j-1]:    #Go LEFT\n",
    "                backtrack_matrix[i-1][j-1] = 0            \n",
    "            elif node_matrix[i][j] == node_matrix[i-1][j-1] + 1  :  #Go Diagonal\n",
    "                backtrack_matrix[i-1][j-1] = 1\n",
    "    print('node matrix\\n' + str(node_matrix))\n",
    "    return backtrack_matrix"
   ]
  },
  {
   "cell_type": "code",
   "execution_count": 727,
   "metadata": {},
   "outputs": [
    {
     "name": "stdout",
     "output_type": "stream",
     "text": [
      "node matrix\n",
      "[[0. 0. 0. 0. 0. 0. 0. 0. 0. 0.]\n",
      " [0. 1. 1. 1. 1. 1. 1. 1. 1. 1.]\n",
      " [0. 1. 1. 2. 2. 2. 2. 2. 2. 2.]\n",
      " [0. 1. 2. 2. 3. 3. 3. 3. 3. 3.]\n",
      " [0. 1. 2. 2. 3. 3. 3. 3. 3. 3.]\n",
      " [0. 1. 2. 2. 3. 4. 4. 4. 4. 4.]\n",
      " [0. 1. 2. 2. 3. 4. 4. 5. 5. 5.]\n",
      " [0. 1. 2. 2. 3. 4. 5. 5. 6. 6.]\n",
      " [0. 1. 2. 2. 3. 4. 5. 5. 6. 6.]]\n"
     ]
    },
    {
     "data": {
      "text/plain": [
       "array([[ 1.,  0.,  0.,  0.,  0.,  0.,  0.,  0.,  0.],\n",
       "       [-1., -1.,  1.,  0.,  0.,  0.,  0.,  0.,  0.],\n",
       "       [-1.,  1., -1.,  1.,  0.,  0.,  0.,  0.,  0.],\n",
       "       [-1., -1., -1., -1., -1., -1., -1., -1., -1.],\n",
       "       [-1., -1., -1., -1.,  1.,  0.,  0.,  0.,  0.],\n",
       "       [-1., -1., -1., -1., -1., -1.,  1.,  0.,  0.],\n",
       "       [-1., -1., -1., -1., -1.,  1., -1.,  1.,  0.],\n",
       "       [-1., -1., -1., -1., -1., -1., -1., -1., -1.]])"
      ]
     },
     "execution_count": 727,
     "metadata": {},
     "output_type": "execute_result"
    }
   ],
   "source": [
    "backtrack_matrix = LCS_Backtrack('AACCTTGG','ACACTGTGA'); \n",
    "backtrack_matrix"
   ]
  },
  {
   "cell_type": "code",
   "execution_count": 747,
   "metadata": {},
   "outputs": [],
   "source": [
    "## Uses While Loop\n",
    "def LCS_1(v,w):\n",
    "    backtrack_matrix = LCS_Backtrack(v,w); print('Backtrack Matrix: \\n'+str(backtrack_matrix))\n",
    "    i = len(v)-1; j = len(w)-1; string1 = ''; string2 = ''; LCS_array = []\n",
    "    while i >= 0 or j >= 0:\n",
    "        '''\n",
    "        print('(i,j)= ('+ str(i)+ ', ' + str(j)+')' )\n",
    "        print('Pointer: ' + str(backtrack_matrix[i][j]))\n",
    "        ''' \n",
    "        if backtrack_matrix[i][j] == -1:  ## Down Pointer, go Up\n",
    "            i = i - 1\n",
    "            #string2 = '-' + string2; string1 = v[i+1] + string1\n",
    "        elif backtrack_matrix[i][j] == 0 :    ## Right pointer, go LEFT\n",
    "            j = j - 1\n",
    "            #string1 = '-' + string1; string2 = w[j+1] + string2\n",
    "        elif backtrack_matrix[i][j] == 1:    ## Down pointer, go UP\n",
    "            #string1 = v[i+1] + string1; string2 = w[i+1] + string2\n",
    "            LCS_array.insert(0,v[i])\n",
    "            i = i - 1; j = j - 1;\n",
    "    return ''.join(LCS_array)    #string1, string2\n",
    "\n",
    "## Recursive form\n",
    "def LCS_2(backtrack_matrix, v, i, j):     # i = len(i); j = len(j)\n",
    "    if i==0 or j==0:\n",
    "        return\n",
    "    backtrack_matrix = LCS_Backtrack(v,w); #print(backtrack_matrix)\n",
    "    if backtrack_matrix[i][j] == -1:    # Down pointer, go up\n",
    "        LCS_2(backtrack_matrix, v, i-1, j)\n",
    "    elif backtrack_matrix[i][j] == 0:    # Right pointer, go left\n",
    "        LCS_2(backtrack_matrix, v, i, j-1)\n",
    "    else :    #backtrack_matrix[i][j] == 1\n",
    "        LCS_2(backtrack_matrix, v, i-1, j-1)\n",
    "        print(v[i])"
   ]
  },
  {
   "cell_type": "code",
   "execution_count": 748,
   "metadata": {},
   "outputs": [
    {
     "name": "stdout",
     "output_type": "stream",
     "text": [
      "node matrix\n",
      "[[0. 0. 0. 0. 0. 0. 0. 0. 0. 0.]\n",
      " [0. 1. 1. 1. 1. 1. 1. 1. 1. 1.]\n",
      " [0. 1. 1. 2. 2. 2. 2. 2. 2. 2.]\n",
      " [0. 1. 2. 2. 3. 3. 3. 3. 3. 3.]\n",
      " [0. 1. 2. 2. 3. 3. 3. 3. 3. 3.]\n",
      " [0. 1. 2. 2. 3. 4. 4. 4. 4. 4.]\n",
      " [0. 1. 2. 2. 3. 4. 4. 5. 5. 5.]\n",
      " [0. 1. 2. 2. 3. 4. 5. 5. 6. 6.]\n",
      " [0. 1. 2. 2. 3. 4. 5. 5. 6. 6.]]\n",
      "Backtrack Matrix: \n",
      "[[ 1.  0.  0.  0.  0.  0.  0.  0.  0.]\n",
      " [-1. -1.  1.  0.  0.  0.  0.  0.  0.]\n",
      " [-1.  1. -1.  1.  0.  0.  0.  0.  0.]\n",
      " [-1. -1. -1. -1. -1. -1. -1. -1. -1.]\n",
      " [-1. -1. -1. -1.  1.  0.  0.  0.  0.]\n",
      " [-1. -1. -1. -1. -1. -1.  1.  0.  0.]\n",
      " [-1. -1. -1. -1. -1.  1. -1.  1.  0.]\n",
      " [-1. -1. -1. -1. -1. -1. -1. -1. -1.]]\n"
     ]
    },
    {
     "data": {
      "text/plain": [
       "'AACTTG'"
      ]
     },
     "execution_count": 748,
     "metadata": {},
     "output_type": "execute_result"
    }
   ],
   "source": [
    "v = 'AACCTTGG'; w = 'ACACTGTGA'\n",
    "LCS_1(v,w)"
   ]
  },
  {
   "cell_type": "code",
   "execution_count": 752,
   "metadata": {},
   "outputs": [],
   "source": [
    "file = open('CC3-longest_common_subsequence.txt','r')\n",
    "data = file.read(); data = data.split('\\n'); file.close()\n",
    "v,w,_ = data; #print(v); print(w)"
   ]
  },
  {
   "cell_type": "code",
   "execution_count": 751,
   "metadata": {},
   "outputs": [
    {
     "name": "stdout",
     "output_type": "stream",
     "text": [
      "node matrix\n",
      "[[  0.   0.   0. ...   0.   0.   0.]\n",
      " [  0.   1.   1. ...   1.   1.   1.]\n",
      " [  0.   1.   1. ...   2.   2.   2.]\n",
      " ...\n",
      " [  0.   1.   2. ... 569. 570. 571.]\n",
      " [  0.   1.   2. ... 569. 570. 571.]\n",
      " [  0.   1.   2. ... 569. 570. 571.]]\n",
      "Backtrack Matrix: \n",
      "[[ 1.  0.  0. ...  0.  0.  0.]\n",
      " [-1. -1. -1. ...  0.  0.  0.]\n",
      " [-1. -1. -1. ...  0.  0.  0.]\n",
      " ...\n",
      " [-1. -1. -1. ... -1. -1. -1.]\n",
      " [-1. -1. -1. ... -1. -1. -1.]\n",
      " [-1. -1. -1. ... -1. -1. -1.]]\n",
      "TCCTTCCTCTAGGCATGGGCTGCCGCTCCCGACTCCGGGGTGTAGGATAACATGTACTGTGTCCAAGCACGGCACTTCTGAGCCAGCTCTGTGCTTCGCCCATCAGAAATGCTCAGGCCAGTCCAGTCTCCGGAGAAATGCGACGTGGGGCACTGCCCGAGGACCAGAGCTGCTGCCCCCCGTGGGTAGGTAGATACCCGTTATTCGTTCGGTCAGCACATTTAAGACGTGAGAAACCCAGAGCGAGGAGTGATACATTGCCCGCAAAATTTACAAAAGCTTCCCCCCAACTGCACGGAGCGTGACCCGACCAGTACAGTAGAAGGAAGTTAAGAGCGTGAGCTTCGCAGGTTAGCTTTGCAGCCGCGCAAAATTGATGGGCAGGTTGTACATCGACGCGGGTATAGATTTTCTCCGCTGGTGGCCATTTCGGTTTACGCCCTCGCATTACGACTAAATAGCTAAGCCGCTGTGAGGGTTTTTTCCAATAAGTTACTTAAGAATTTCGGGCTTGTATGCCGAATCTTGGCGCCGCGATTGCATTCAGGGTCTTTCTTCTGACGATGGTGTC\n",
      "571\n"
     ]
    }
   ],
   "source": [
    "LCS = LCS_1(v,w)\n",
    "path_length = len(LCS); print(LCS); print(path_length)"
   ]
  },
  {
   "cell_type": "markdown",
   "metadata": {},
   "source": [
    "<b> Longest Path In DAG"
   ]
  },
  {
   "cell_type": "code",
   "execution_count": 3,
   "metadata": {},
   "outputs": [
    {
     "name": "stdout",
     "output_type": "stream",
     "text": [
      "['6->26:32', '10->39:30', '26->28:24', '3->16:19', '10->35:35', '10->37:19', '10->31:36', '10->33:32', '10->32:4', '15->23:0', '15->21:0', '22->24:0', '22->27:31', '1->3:36', '5->43:37', '8->30:23', '19->34:11', '12->13:38', '39->40:35', '12->15:29', '27->29:13', '1->42:31', '24->25:2', '1->10:4', '4->30:11', '13->35:17', '24->28:2', '23->25:37', '31->43:7', '31->40:17', '3->28:2', '5->12:39', '5->11:37', '3->4:4', '2->31:23', '14->29:13', '19->27:21', '27->36:20', '31->33:23', '30->40:27', '28->42:29', '21->35:33', '21->37:5', '20->37:24', '2->9:38', '0->14:19', '4->20:0', '1->41:8', '8->14:28', '19->20:13', '4->43:3', '14->31:25', '14->30:22', '13->41:19', '13->40:32', '14->35:10', '10->11:5', '14->38:23', '2->23:9', '2->25:1', '24->40:37', '12->38:38', '20->23:34', '20->21:29', '12->30:10', '12->37:12', '29->44:30', '33->35:15', '33->37:22', '0->36:8', '37->38:17', '10->29:13', '17->44:11', '6->14:5', '10->22:8', '22->37:19', '22->34:3', '32->43:4', '15->36:28', '11->35:20', '2->16:27', '7->10:22', '11->31:19', '16->41:24', '15->30:25', '32->37:29', '0->27:9', '0->28:7', '32->38:0', '12->43:5', '22->35:37', '24->30:7', '24->32:19']\n",
      "0\n",
      "44\n"
     ]
    }
   ],
   "source": [
    "import numpy as np, math as m\n",
    "file = open('CC4-longest_path_in_DAG.txt','r')\n",
    "data = file.read(); data = data.split('\\n'); \n",
    "start, end, node_weights = data[0], data[1], data[2:-1]; file.close(); start = int(start); end = int(end)\n",
    "print(node_weights); print(start); print(end)\n",
    "## Turn data into start points, end point, weights\n",
    "node_weights = [node_weight.split(':') for node_weight in node_weights]; \n",
    "nodes_ = [x.split('->') for x,y in node_weights]; weight_array = [int(y) for x,y in node_weights]; \n",
    "start_array = [int(start) for start,end in nodes_]; end_array = [int(end) for start,end in nodes_];"
   ]
  },
  {
   "cell_type": "code",
   "execution_count": 4,
   "metadata": {},
   "outputs": [],
   "source": [
    "from collections import defaultdict\n",
    "from itertools import chain\n",
    "def Node2Dict(start_array, end_array, weight_array):     # turn information into dictionary with all information \n",
    "    graph = defaultdict(list)\n",
    "    for start, end, weight in zip(start_array,end_array, weight_array):\n",
    "        graph[start].append((end,weight))\n",
    "    return graph"
   ]
  },
  {
   "cell_type": "code",
   "execution_count": 5,
   "metadata": {},
   "outputs": [
    {
     "name": "stdout",
     "output_type": "stream",
     "text": [
      "dict_keys([6, 10, 26, 3, 15, 22, 1, 5, 8, 19, 12, 39, 27, 24, 4, 13, 23, 31, 2, 14, 30, 28, 21, 20, 0, 29, 33, 37, 17, 32, 11, 7, 16])\n",
      "dict_values([[(26, 32), (14, 5)], [(39, 30), (35, 35), (37, 19), (31, 36), (33, 32), (32, 4), (11, 5), (29, 13), (22, 8)], [(28, 24)], [(16, 19), (28, 2), (4, 4)], [(23, 0), (21, 0), (36, 28), (30, 25)], [(24, 0), (27, 31), (37, 19), (34, 3), (35, 37)], [(3, 36), (42, 31), (10, 4), (41, 8)], [(43, 37), (12, 39), (11, 37)], [(30, 23), (14, 28)], [(34, 11), (27, 21), (20, 13)], [(13, 38), (15, 29), (38, 38), (30, 10), (37, 12), (43, 5)], [(40, 35)], [(29, 13), (36, 20)], [(25, 2), (28, 2), (40, 37), (30, 7), (32, 19)], [(30, 11), (20, 0), (43, 3)], [(35, 17), (41, 19), (40, 32)], [(25, 37)], [(43, 7), (40, 17), (33, 23)], [(31, 23), (9, 38), (23, 9), (25, 1), (16, 27)], [(29, 13), (31, 25), (30, 22), (35, 10), (38, 23)], [(40, 27)], [(42, 29)], [(35, 33), (37, 5)], [(37, 24), (23, 34), (21, 29)], [(14, 19), (36, 8), (27, 9), (28, 7)], [(44, 30)], [(35, 15), (37, 22)], [(38, 17)], [(44, 11)], [(43, 4), (37, 29), (38, 0)], [(35, 20), (31, 19)], [(10, 22)], [(41, 24)]])\n"
     ]
    }
   ],
   "source": [
    "graph = Node2Dict(start_array, end_array, weight_array)\n",
    "print(graph.keys()); print(graph.values())"
   ]
  },
  {
   "cell_type": "markdown",
   "metadata": {},
   "source": [
    "<b>Set maximum weights to each vertice, record the maximum & that the vertice"
   ]
  },
  {
   "cell_type": "code",
   "execution_count": 19,
   "metadata": {},
   "outputs": [],
   "source": [
    "# Recursively \n",
    "# Find node Maximum\n",
    "class DAG:\n",
    "    def __init__(self,graph):\n",
    "        self.graph = graph\n",
    "        self.startnodes = graph.keys()          # List of nodes\n",
    "        self.allnodes =  set(list(chain.from_iterable([[x for (x,w) in item] for item in graph.values()]))).union(self.startnodes)\n",
    "        self.NumVertices = len(self.allnodes)\n",
    "        print('All Nodes: '+ str(self.NumVertices) + ': '+ str(self.allnodes))\n",
    "        print('Start nodes: '+ str(len(self.startnodes)) + ': '+ str(list(self.startnodes)))\n",
    "\n",
    "# Recursive backtracking     \n",
    "    def DAGPath_sortutil(self, current_node, visited, path):\n",
    "        visited[current_node] = True\n",
    "        if current_node in self.startnodes: \n",
    "            for next_node, weight in self.graph[current_node]: \n",
    "                if next_node in self.startnodes:\n",
    "                    if not visited[next_node]:                     ### If visited[node] == False\n",
    "                        self.DAGPath_sortutil(next_node,visited,path)\n",
    "                else:\n",
    "                    path.append(current_node)\n",
    "        path.append(current_node)\n",
    "             \n",
    "# Find longest path\n",
    "    def DAGPath(self, start, end):\n",
    "        visited = dict.fromkeys(self.startnodes, False)        # Boolean for nodes : visited/ not visited\n",
    "        path = [] \n",
    "        ### Fault-proof\n",
    "        if start not in self.graph.keys():\n",
    "            print('Error: No start node!')\n",
    "            return None\n",
    "        if start==end:\n",
    "            return 0, start\n",
    "        \n",
    "        for i in self.startnodes: \n",
    "            if visited[i] == False: \n",
    "                self.DAGPath_sortutil(start, visited, path)\n",
    "        #print(path)\n",
    "        dist = dict.fromkeys(self.allnodes, 0);\n",
    "        while path:  \n",
    "            i = path.pop(); \n",
    "            for next_node,weight in self.graph[i]: \n",
    "                if  dist[i] + weight >  dist[next_node]: \n",
    "                    dist[next_node] = dist[i] + weight\n",
    "                    #print('new weights: ' + str(dist))\n",
    "        for i in self.allnodes: \n",
    "            print('node: ' + str(i),'weight: '+ str(dist[i])) if dist[i] != 0 else 0\n",
    "        return dist[end],\n",
    "    \n",
    "    def pathPrinter(path_list):\n",
    "        text = ''\n",
    "        for i in path_list[:-1]:\n",
    "            text += str(i) + '->'\n",
    "        return text+path_list[-1]"
   ]
  },
  {
   "cell_type": "code",
   "execution_count": 20,
   "metadata": {},
   "outputs": [
    {
     "name": "stdout",
     "output_type": "stream",
     "text": [
      "All Nodes: 44: {0, 1, 2, 3, 4, 5, 6, 7, 8, 9, 10, 11, 12, 13, 14, 15, 16, 17, 19, 20, 21, 22, 23, 24, 25, 26, 27, 28, 29, 30, 31, 32, 33, 34, 35, 36, 37, 38, 39, 40, 41, 42, 43, 44}\n",
      "Start nodes: 33: [6, 10, 26, 3, 15, 22, 1, 5, 8, 19, 12, 39, 27, 24, 4, 13, 23, 31, 2, 14, 30, 28, 21, 20, 0, 29, 33, 37, 17, 32, 11, 7, 16]\n",
      "node: 14 weight: 19\n",
      "node: 27 weight: 9\n",
      "node: 28 weight: 7\n",
      "node: 29 weight: 32\n",
      "node: 30 weight: 41\n",
      "node: 31 weight: 44\n",
      "node: 33 weight: 67\n",
      "node: 35 weight: 82\n",
      "node: 36 weight: 29\n",
      "node: 37 weight: 89\n",
      "node: 38 weight: 106\n",
      "node: 40 weight: 68\n",
      "node: 42 weight: 36\n",
      "node: 43 weight: 51\n",
      "node: 44 weight: 62\n"
     ]
    },
    {
     "data": {
      "text/plain": [
       "(62,)"
      ]
     },
     "execution_count": 20,
     "metadata": {},
     "output_type": "execute_result"
    }
   ],
   "source": [
    "g = DAG(graph);\n",
    "g.DAGPath(0,44)"
   ]
  },
  {
   "cell_type": "code",
   "execution_count": null,
   "metadata": {},
   "outputs": [],
   "source": []
  }
 ],
 "metadata": {
  "kernelspec": {
   "display_name": "Python 3",
   "language": "python",
   "name": "python3"
  },
  "language_info": {
   "codemirror_mode": {
    "name": "ipython",
    "version": 3
   },
   "file_extension": ".py",
   "mimetype": "text/x-python",
   "name": "python",
   "nbconvert_exporter": "python",
   "pygments_lexer": "ipython3",
   "version": "3.6.6"
  }
 },
 "nbformat": 4,
 "nbformat_minor": 2
}
