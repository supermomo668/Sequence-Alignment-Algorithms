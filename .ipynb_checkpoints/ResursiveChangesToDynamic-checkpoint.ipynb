{
 "cells": [
  {
   "cell_type": "markdown",
   "metadata": {},
   "source": [
    "Recursive Changes"
   ]
  },
  {
   "cell_type": "code",
   "execution_count": 40,
   "metadata": {},
   "outputs": [
    {
     "data": {
      "text/html": [
       "<img src=\"img/recursive-calls.png\",width = 400, height = 400>\n"
      ],
      "text/plain": [
       "<IPython.core.display.HTML object>"
      ]
     },
     "metadata": {},
     "output_type": "display_data"
    }
   ],
   "source": [
    "%%html\n",
    "<img src=\"img/recursive-calls.png\",width = 400, height = 400>"
   ]
  },
  {
   "cell_type": "code",
   "execution_count": 62,
   "metadata": {},
   "outputs": [],
   "source": [
    "import math as m\n",
    "def RecursiveChanges(money, coins):     #money: single value   #coins: array of denominator values available\n",
    "    if money == 0 :\n",
    "        return 0\n",
    "    minimum_number_coins = m.inf\n",
    "    count = 0;\n",
    "    for coin in coins:                 #for each coin in [coin1, coin2, coin3...]\n",
    "        if coin <= money:\n",
    "            Number_of_coins = RecursiveChanges(money-coin, coins)\n",
    "        if Number_of_coins < minimum_number_coins:\n",
    "            minimum_number_coins = Number_of_coins + 1\n",
    "    return minimum_number_coins"
   ]
  },
  {
   "cell_type": "code",
   "execution_count": 85,
   "metadata": {},
   "outputs": [
    {
     "data": {
      "text/plain": [
       "4"
      ]
     },
     "execution_count": 85,
     "metadata": {},
     "output_type": "execute_result"
    }
   ],
   "source": [
    "RecursiveChanges(17,[1,4,5])"
   ]
  },
  {
   "cell_type": "code",
   "execution_count": 84,
   "metadata": {},
   "outputs": [
    {
     "name": "stdout",
     "output_type": "stream",
     "text": [
      "3 3 3 4 4 4 4 4 5 5\n"
     ]
    }
   ],
   "source": [
    "## Generate an array for m = 1 - 12\n",
    "max_money = 22; minimum_coins = []; coins = [1,4,5]\n",
    "for money in range(13,max_money+1):\n",
    "    minimum_coins.append(RecursiveChanges(money,coins))\n",
    "print(' '.join(str(i) for i in minimum_coins))"
   ]
  },
  {
   "cell_type": "markdown",
   "metadata": {},
   "source": [
    "Dynamic Programming "
   ]
  },
  {
   "cell_type": "code",
   "execution_count": null,
   "metadata": {},
   "outputs": [],
   "source": [
    "import math as m\n",
    "def DP_Changes(money,coins):        #money: single value   #coins: array of denominator values available\n",
    "    minimum_coins.insert(0,0)\n",
    "    for m in range(money):\n",
    "        minimum_coins[m] = m.inf\n",
    "        for coin in coins:\n",
    "            if m >= coin:           # don't bother if the coin value is larger than money (you cannot get integer)\n",
    "                if minimum_coins[m - coin] + 1 < minimum_coins[m]:\n",
    "                    min"
   ]
  }
 ],
 "metadata": {
  "kernelspec": {
   "display_name": "Python 3",
   "language": "python",
   "name": "python3"
  },
  "language_info": {
   "codemirror_mode": {
    "name": "ipython",
    "version": 3
   },
   "file_extension": ".py",
   "mimetype": "text/x-python",
   "name": "python",
   "nbconvert_exporter": "python",
   "pygments_lexer": "ipython3",
   "version": "3.6.6"
  }
 },
 "nbformat": 4,
 "nbformat_minor": 2
}
